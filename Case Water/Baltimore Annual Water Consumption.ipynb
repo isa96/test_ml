{
 "cells": [
  {
   "cell_type": "markdown",
   "metadata": {},
   "source": [
    "# Read Me\n",
    "- Dalam kasus ini, saya akan menggunakan 2 cara yaitu cara pertama mengikuti intsruksi dan cara 2 adalah sedikit modifikasi yang akan saya lakukan."
   ]
  },
  {
   "cell_type": "markdown",
   "metadata": {},
   "source": [
    "# Cara Pertama Sesuai Instruksi\n",
    "***"
   ]
  },
  {
   "cell_type": "markdown",
   "metadata": {},
   "source": [
    "## 0. Load Library\n",
    "- Memuat library yang akan digunakan."
   ]
  },
  {
   "cell_type": "code",
   "execution_count": 1,
   "metadata": {},
   "outputs": [],
   "source": [
    "import pandas as pd\n",
    "import numpy as np\n",
    "\n",
    "import matplotlib.pyplot as plt\n",
    "import seaborn as sns\n",
    "\n",
    "from sklearn.model_selection import train_test_split\n",
    "from sklearn.metrics import mean_squared_error\n",
    "\n",
    "from statsmodels.tsa.stattools import adfuller\n",
    "from statsmodels.graphics.tsaplots import plot_acf, plot_pacf\n",
    "from statsmodels.tsa.arima_model import ARIMA\n",
    "from statsmodels.tsa.seasonal import seasonal_decompose\n",
    "\n",
    "import itertools\n",
    "import warnings\n",
    "warnings.filterwarnings('ignore')"
   ]
  },
  {
   "cell_type": "markdown",
   "metadata": {},
   "source": [
    "## 1. Load Datasets"
   ]
  },
  {
   "cell_type": "code",
   "execution_count": 2,
   "metadata": {},
   "outputs": [],
   "source": [
    "#Memuat data\n",
    "df = pd.read_csv('water.csv', skipfooter=2)"
   ]
  },
  {
   "cell_type": "code",
   "execution_count": 3,
   "metadata": {},
   "outputs": [
    {
     "data": {
      "text/plain": [
       "Index(['Year', 'Baltmore city annual water use, liters per capita per day, 1885-1968'], dtype='object')"
      ]
     },
     "execution_count": 3,
     "metadata": {},
     "output_type": "execute_result"
    }
   ],
   "source": [
    "#melihat kolom yang ada di data\n",
    "df.columns"
   ]
  },
  {
   "cell_type": "code",
   "execution_count": 4,
   "metadata": {},
   "outputs": [],
   "source": [
    "#replace columns agar lebih enak\n",
    "rename={'Year':'year',\n",
    "        'Baltmore city annual water use, liters per capita per day, 1885-1968':'annual_use'}\n",
    "df.rename(columns=rename, inplace=True)"
   ]
  },
  {
   "cell_type": "code",
   "execution_count": 5,
   "metadata": {},
   "outputs": [],
   "source": [
    "#Split data 2 model development and validation\n",
    "batas = len(df) - 20\n",
    "dataset, validation = df[0:batas], df[batas:]\n",
    "\n",
    "#simpan dataset dan validation dalam bentuk csv\n",
    "dataset.to_csv('dataset.csv')\n",
    "validation.to_csv('validation.csv')"
   ]
  },
  {
   "cell_type": "markdown",
   "metadata": {},
   "source": [
    "## 2. Create summary of the dataset, with python function.\n",
    "- Mulai sekarang akan menggunakan data untuk model development yaitu dataset.csv"
   ]
  },
  {
   "cell_type": "code",
   "execution_count": 6,
   "metadata": {},
   "outputs": [
    {
     "data": {
      "text/html": [
       "<div>\n",
       "<style scoped>\n",
       "    .dataframe tbody tr th:only-of-type {\n",
       "        vertical-align: middle;\n",
       "    }\n",
       "\n",
       "    .dataframe tbody tr th {\n",
       "        vertical-align: top;\n",
       "    }\n",
       "\n",
       "    .dataframe thead th {\n",
       "        text-align: right;\n",
       "    }\n",
       "</style>\n",
       "<table border=\"1\" class=\"dataframe\">\n",
       "  <thead>\n",
       "    <tr style=\"text-align: right;\">\n",
       "      <th></th>\n",
       "      <th>year</th>\n",
       "      <th>annual_use</th>\n",
       "    </tr>\n",
       "  </thead>\n",
       "  <tbody>\n",
       "    <tr>\n",
       "      <th>count</th>\n",
       "      <td>59.000000</td>\n",
       "      <td>59.000000</td>\n",
       "    </tr>\n",
       "    <tr>\n",
       "      <th>mean</th>\n",
       "      <td>1914.000000</td>\n",
       "      <td>485.288136</td>\n",
       "    </tr>\n",
       "    <tr>\n",
       "      <th>std</th>\n",
       "      <td>17.175564</td>\n",
       "      <td>68.033473</td>\n",
       "    </tr>\n",
       "    <tr>\n",
       "      <th>min</th>\n",
       "      <td>1885.000000</td>\n",
       "      <td>344.000000</td>\n",
       "    </tr>\n",
       "    <tr>\n",
       "      <th>25%</th>\n",
       "      <td>1899.500000</td>\n",
       "      <td>454.000000</td>\n",
       "    </tr>\n",
       "    <tr>\n",
       "      <th>50%</th>\n",
       "      <td>1914.000000</td>\n",
       "      <td>485.000000</td>\n",
       "    </tr>\n",
       "    <tr>\n",
       "      <th>75%</th>\n",
       "      <td>1928.500000</td>\n",
       "      <td>509.000000</td>\n",
       "    </tr>\n",
       "    <tr>\n",
       "      <th>max</th>\n",
       "      <td>1943.000000</td>\n",
       "      <td>662.000000</td>\n",
       "    </tr>\n",
       "  </tbody>\n",
       "</table>\n",
       "</div>"
      ],
      "text/plain": [
       "              year  annual_use\n",
       "count    59.000000   59.000000\n",
       "mean   1914.000000  485.288136\n",
       "std      17.175564   68.033473\n",
       "min    1885.000000  344.000000\n",
       "25%    1899.500000  454.000000\n",
       "50%    1914.000000  485.000000\n",
       "75%    1928.500000  509.000000\n",
       "max    1943.000000  662.000000"
      ]
     },
     "execution_count": 6,
     "metadata": {},
     "output_type": "execute_result"
    }
   ],
   "source": [
    "#copy dataset ke dalam df\n",
    "df = dataset.copy()\n",
    "df.describe()"
   ]
  },
  {
   "cell_type": "markdown",
   "metadata": {},
   "source": [
    "- Jumlah data dataset 59.\n",
    "- rata rata penggunaan water di baltimore sebesar 485.28 per tahun."
   ]
  },
  {
   "cell_type": "markdown",
   "metadata": {},
   "source": [
    "## 3. Create A line plot of a time series dataset, it will provide a lot of insight into the problem."
   ]
  },
  {
   "cell_type": "code",
   "execution_count": 7,
   "metadata": {
    "scrolled": false
   },
   "outputs": [
    {
     "data": {
      "text/plain": [
       "Text(0.5, 1.0, 'Annual Use of Water in Baltimore')"
      ]
     },
     "execution_count": 7,
     "metadata": {},
     "output_type": "execute_result"
    },
    {
     "data": {
      "image/png": "[encoded data removed]",
      "text/plain": [
       "<Figure size 1080x360 with 1 Axes>"
      ]
     },
     "metadata": {
      "needs_background": "light"
     },
     "output_type": "display_data"
    }
   ],
   "source": [
    "#membuat line plot dari data\n",
    "f = plt.figure(figsize=(15,5))\n",
    "\n",
    "f.add_subplot(1,1,1)\n",
    "plt.plot(df['year'], df['annual_use'])\n",
    "plt.xlabel('year')\n",
    "plt.ylabel('use of water')\n",
    "plt.title('Annual Use of Water in Baltimore')"
   ]
  },
  {
   "cell_type": "markdown",
   "metadata": {},
   "source": [
    "- Dari line plot dapat dilihat bahwa data memiliki trend."
   ]
  },
  {
   "cell_type": "markdown",
   "metadata": {},
   "source": [
    "## 4. Group the annual data by decade and get an idea of the spread of observations for each decade and how this may be changing."
   ]
  },
  {
   "cell_type": "code",
   "execution_count": 8,
   "metadata": {
    "scrolled": false
   },
   "outputs": [
    {
     "data": {
      "image/png": "[encoded data removed]",
      "text/plain": [
       "<Figure size 1080x360 with 1 Axes>"
      ]
     },
     "metadata": {
      "needs_background": "light"
     },
     "output_type": "display_data"
    }
   ],
   "source": [
    "# NEAREST 10 FOR DECADE START\n",
    "df['decade_start'] = (df['year'] // 10) * 10 + 5\n",
    "\n",
    "# ADJUST FOR YEARS ENDING IN ZERO\n",
    "df.loc[(df['year'] % 10) == 0, 'decade_start'] = df['decade_start'] - 10\n",
    "\n",
    "# CALCULATE DECADE RANGE\n",
    "df['decade_range'] = df['decade_start'].astype('str') + ' - ' + \\\n",
    "                     (df['decade_start'] + 9).astype('str') \n",
    "\n",
    "plt.figure(figsize=(15,5))\n",
    "sns.boxplot(x=\"decade_range\", y=\"annual_use\", data=df)   \n",
    "\n",
    "plt.show()\n",
    "plt.clf()\n",
    "plt.close()"
   ]
  },
  {
   "cell_type": "markdown",
   "metadata": {},
   "source": [
    "## 5. Create models using ARIMA"
   ]
  },
  {
   "cell_type": "markdown",
   "metadata": {},
   "source": [
    "### 5.1 Split Dataset"
   ]
  },
  {
   "cell_type": "code",
   "execution_count": 9,
   "metadata": {},
   "outputs": [],
   "source": [
    "#copy dataset ke df agar dataset tidak berubah\n",
    "df = dataset.copy()"
   ]
  },
  {
   "cell_type": "code",
   "execution_count": 10,
   "metadata": {},
   "outputs": [],
   "source": [
    "#Membuat features year menjadi index\n",
    "df.set_index(df['year'], inplace=True)\n",
    "\n",
    "#Menghapus feature year\n",
    "df.drop(columns=['year'], inplace=True)"
   ]
  },
  {
   "cell_type": "code",
   "execution_count": 11,
   "metadata": {},
   "outputs": [
    {
     "name": "stdout",
     "output_type": "stream",
     "text": [
      "(47, 1)\n",
      "(12, 1)\n"
     ]
    }
   ],
   "source": [
    "#Mengubah data menjadi float\n",
    "df = df.astype('float64')\n",
    "\n",
    "#Split data menjadi training dan testing dengan proporsi 80:20\n",
    "train_size = int(len(df)*0.8)\n",
    "train = df[0:train_size]\n",
    "test = df[train_size:]\n",
    "print(train.shape)\n",
    "print(test.shape)"
   ]
  },
  {
   "cell_type": "markdown",
   "metadata": {},
   "source": [
    "### 5.2 Use an ARIMA(0,1,0) on the raw data may be a good starting point."
   ]
  },
  {
   "cell_type": "code",
   "execution_count": 12,
   "metadata": {},
   "outputs": [
    {
     "name": "stdout",
     "output_type": "stream",
     "text": [
      "                             ARIMA Model Results                              \n",
      "==============================================================================\n",
      "Dep. Variable:           D.annual_use   No. Observations:                   46\n",
      "Model:                 ARIMA(0, 1, 0)   Log Likelihood                -234.089\n",
      "Method:                           css   S.D. of innovations             39.250\n",
      "Date:                Thu, 10 Oct 2019   AIC                            472.179\n",
      "Time:                        18:11:10   BIC                            475.836\n",
      "Sample:                             1   HQIC                           473.549\n",
      "                                                                              \n",
      "==============================================================================\n",
      "                 coef    std err          z      P>|z|      [0.025      0.975]\n",
      "------------------------------------------------------------------------------\n",
      "const          3.1957      5.787      0.552      0.584      -8.147      14.538\n",
      "==============================================================================\n"
     ]
    }
   ],
   "source": [
    "#melihat hasil dari arima\n",
    "arima_order = (0,1,0)\n",
    "arima = ARIMA(train, order=arima_order)\n",
    "arima_fit = arima.fit()\n",
    "print(arima_fit.summary())"
   ]
  },
  {
   "cell_type": "markdown",
   "metadata": {},
   "source": [
    "### 5.3 Prediction"
   ]
  },
  {
   "cell_type": "code",
   "execution_count": 13,
   "metadata": {},
   "outputs": [
    {
     "data": {
      "text/html": [
       "<div>\n",
       "<style scoped>\n",
       "    .dataframe tbody tr th:only-of-type {\n",
       "        vertical-align: middle;\n",
       "    }\n",
       "\n",
       "    .dataframe tbody tr th {\n",
       "        vertical-align: top;\n",
       "    }\n",
       "\n",
       "    .dataframe thead th {\n",
       "        text-align: right;\n",
       "    }\n",
       "</style>\n",
       "<table border=\"1\" class=\"dataframe\">\n",
       "  <thead>\n",
       "    <tr style=\"text-align: right;\">\n",
       "      <th></th>\n",
       "      <th>prediksi</th>\n",
       "      <th>actual</th>\n",
       "    </tr>\n",
       "    <tr>\n",
       "      <th>year</th>\n",
       "      <th></th>\n",
       "      <th></th>\n",
       "    </tr>\n",
       "  </thead>\n",
       "  <tbody>\n",
       "    <tr>\n",
       "      <th>1932</th>\n",
       "      <td>506.195652</td>\n",
       "      <td>488.0</td>\n",
       "    </tr>\n",
       "    <tr>\n",
       "      <th>1933</th>\n",
       "      <td>509.391304</td>\n",
       "      <td>466.0</td>\n",
       "    </tr>\n",
       "    <tr>\n",
       "      <th>1934</th>\n",
       "      <td>512.586957</td>\n",
       "      <td>492.0</td>\n",
       "    </tr>\n",
       "    <tr>\n",
       "      <th>1935</th>\n",
       "      <td>515.782609</td>\n",
       "      <td>503.0</td>\n",
       "    </tr>\n",
       "    <tr>\n",
       "      <th>1936</th>\n",
       "      <td>518.978261</td>\n",
       "      <td>515.0</td>\n",
       "    </tr>\n",
       "  </tbody>\n",
       "</table>\n",
       "</div>"
      ],
      "text/plain": [
       "        prediksi  actual\n",
       "year                    \n",
       "1932  506.195652   488.0\n",
       "1933  509.391304   466.0\n",
       "1934  512.586957   492.0\n",
       "1935  515.782609   503.0\n",
       "1936  518.978261   515.0"
      ]
     },
     "execution_count": 13,
     "metadata": {},
     "output_type": "execute_result"
    }
   ],
   "source": [
    "#Nilai prediksi dari model\n",
    "y_pred = arima_fit.forecast(len(test))[0]\n",
    "df_test = pd.DataFrame(y_pred, columns=['prediksi'], index=test.index)\n",
    "df_test['actual'] = test.values\n",
    "df_test.head()"
   ]
  },
  {
   "cell_type": "code",
   "execution_count": 14,
   "metadata": {},
   "outputs": [
    {
     "data": {
      "image/png": "[encoded data removed]",
      "text/plain": [
       "<Figure size 576x288 with 1 Axes>"
      ]
     },
     "metadata": {
      "needs_background": "light"
     },
     "output_type": "display_data"
    }
   ],
   "source": [
    "#Actual vs Forecasted in test dataset\n",
    "plt.figure(figsize=(8,4))\n",
    "plt.plot(df_test['prediksi'], color='blue', label='prediksi')\n",
    "plt.plot(df_test['actual'], color='black', label='actual')\n",
    "plt.legend()\n",
    "plt.show()"
   ]
  },
  {
   "cell_type": "markdown",
   "metadata": {},
   "source": [
    "## 6. Calculate RMSE and MAPE"
   ]
  },
  {
   "cell_type": "code",
   "execution_count": 15,
   "metadata": {},
   "outputs": [
    {
     "name": "stdout",
     "output_type": "stream",
     "text": [
      "Nilai RMSE 48.832206147970616\n"
     ]
    }
   ],
   "source": [
    "#check error\n",
    "rmse = np.sqrt(mean_squared_error(df_test['actual'], df_test['prediksi']))\n",
    "print(f'Nilai RMSE {rmse}')"
   ]
  },
  {
   "cell_type": "markdown",
   "metadata": {},
   "source": [
    "- Model pertama didapatkan nilai RMSE yaitu 48.8."
   ]
  },
  {
   "cell_type": "markdown",
   "metadata": {},
   "source": [
    "***\n",
    "# Cara Kedua Menggunakan Sedikit Modifikasi\n",
    "- Tetap menggunakan data dataset"
   ]
  },
  {
   "cell_type": "code",
   "execution_count": 16,
   "metadata": {},
   "outputs": [],
   "source": [
    "df = dataset.copy()"
   ]
  },
  {
   "cell_type": "code",
   "execution_count": 17,
   "metadata": {},
   "outputs": [],
   "source": [
    "#Mengubah features year kedalam bentuk datetime\n",
    "df['year'] = pd.to_datetime(df['year'], format='%Y')\n",
    "\n",
    "#Menjadikan feature year sebagai index\n",
    "df.set_index(df['year'], inplace=True)\n",
    "\n",
    "#menghapus feature year\n",
    "df.drop(columns=['year'], inplace=True)"
   ]
  },
  {
   "cell_type": "code",
   "execution_count": 18,
   "metadata": {
    "scrolled": true
   },
   "outputs": [
    {
     "data": {
      "image/png": "[encoded data removed]",
      "text/plain": [
       "<Figure size 432x288 with 1 Axes>"
      ]
     },
     "metadata": {
      "needs_background": "light"
     },
     "output_type": "display_data"
    }
   ],
   "source": [
    "#Plot PACF\n",
    "plot_pacf(df, lags=20)\n",
    "plt.show()"
   ]
  },
  {
   "cell_type": "markdown",
   "metadata": {},
   "source": [
    "- Signifikan di Lag 0 dan 1"
   ]
  },
  {
   "cell_type": "code",
   "execution_count": 19,
   "metadata": {},
   "outputs": [
    {
     "data": {
      "image/png": "[encoded data removed]",
      "text/plain": [
       "<Figure size 432x288 with 1 Axes>"
      ]
     },
     "metadata": {
      "needs_background": "light"
     },
     "output_type": "display_data"
    }
   ],
   "source": [
    "#Plot ACF\n",
    "plot_acf(df, lags=20)\n",
    "plt.show()"
   ]
  },
  {
   "cell_type": "markdown",
   "metadata": {},
   "source": [
    "- Signfikan di Lag 0,1, dan 2"
   ]
  },
  {
   "cell_type": "markdown",
   "metadata": {},
   "source": [
    "### Check the Seasonality\n",
    "- Untuk mengetahui apakah data memiliki efek musiman dan trend."
   ]
  },
  {
   "cell_type": "code",
   "execution_count": 20,
   "metadata": {},
   "outputs": [
    {
     "data": {
      "image/png": "[encoded data removed]",
      "text/plain": [
       "<Figure size 720x576 with 3 Axes>"
      ]
     },
     "metadata": {
      "needs_background": "light"
     },
     "output_type": "display_data"
    }
   ],
   "source": [
    "decomposition = seasonal_decompose(df['annual_use'])\n",
    "\n",
    "trend = decomposition.trend\n",
    "seasonal = decomposition.seasonal\n",
    "residual = decomposition.resid\n",
    "plt.figure(figsize=(10,8))\n",
    "plt.subplot(311)\n",
    "plt.plot(trend, label='Trend')\n",
    "plt.legend(loc='best')\n",
    "plt.subplot(312)\n",
    "plt.plot(seasonal, label='Seasonality')\n",
    "plt.legend(loc='best')\n",
    "plt.subplot(313)\n",
    "plt.plot(residual, label='Residuals')\n",
    "plt.legend(loc='best')\n",
    "plt.tight_layout()"
   ]
  },
  {
   "cell_type": "markdown",
   "metadata": {},
   "source": [
    "- Data memiliki sedikit trend.\n",
    "- Data tidak memiliki komponen musiman."
   ]
  },
  {
   "cell_type": "markdown",
   "metadata": {},
   "source": [
    "### Check the Stationarity"
   ]
  },
  {
   "cell_type": "code",
   "execution_count": 21,
   "metadata": {},
   "outputs": [],
   "source": [
    "#melakukan adfuller test untuk check apakah data stasioner atau tidak\n",
    "adftest = adfuller(df['annual_use'], autolag='AIC')"
   ]
  },
  {
   "cell_type": "code",
   "execution_count": 22,
   "metadata": {},
   "outputs": [
    {
     "data": {
      "text/plain": [
       "Test Statistic                 -1.833141\n",
       "p-value                         0.364136\n",
       "#Lags Used                      2.000000\n",
       "Number of Observations Used    56.000000\n",
       "dtype: float64"
      ]
     },
     "execution_count": 22,
     "metadata": {},
     "output_type": "execute_result"
    }
   ],
   "source": [
    "#melihat output dari adfuller test\n",
    "adf_output = pd.Series(adftest[0:4], index=['Test Statistic','p-value','#Lags Used','Number of Observations Used'])\n",
    "adf_output"
   ]
  },
  {
   "cell_type": "markdown",
   "metadata": {},
   "source": [
    "- Karena nilai p-value lebih dari 0.05 maka, H0 diterima yaitu data belum stasioner."
   ]
  },
  {
   "cell_type": "markdown",
   "metadata": {},
   "source": [
    "### Differencing 1x\n",
    "- Dilakukan agar data stasioner."
   ]
  },
  {
   "cell_type": "code",
   "execution_count": 23,
   "metadata": {},
   "outputs": [],
   "source": [
    "#differencung 1\n",
    "diff1 = df - df.shift(1)\n",
    "\n",
    "#menghapus null values\n",
    "diff1 = diff1.dropna()"
   ]
  },
  {
   "cell_type": "code",
   "execution_count": 24,
   "metadata": {},
   "outputs": [
    {
     "data": {
      "text/plain": [
       "Test Statistic                 -5.615617\n",
       "p-value                         0.000001\n",
       "#Lags Used                      1.000000\n",
       "Number of Observations Used    56.000000\n",
       "dtype: float64"
      ]
     },
     "execution_count": 24,
     "metadata": {},
     "output_type": "execute_result"
    }
   ],
   "source": [
    "#melihat kembali adfuller test\n",
    "adftest = adfuller(diff1['annual_use'], autolag='AIC')\n",
    "adf_output = pd.Series(adftest[0:4], index=['Test Statistic','p-value','#Lags Used','Number of Observations Used'])\n",
    "adf_output"
   ]
  },
  {
   "cell_type": "markdown",
   "metadata": {},
   "source": [
    "- Nilai p-value sudah dibawah 0.05 maka data sudah stasioner dan bisa dilanjutkan ke tahap modelling.\n",
    "- Nilai d harus 1 karena dilakukan differencing sebanyak 1x."
   ]
  },
  {
   "cell_type": "markdown",
   "metadata": {},
   "source": [
    "### Modelling"
   ]
  },
  {
   "cell_type": "code",
   "execution_count": 25,
   "metadata": {},
   "outputs": [
    {
     "name": "stdout",
     "output_type": "stream",
     "text": [
      "(47, 1)\n",
      "(12, 1)\n"
     ]
    }
   ],
   "source": [
    "#Mengubah data menjadi float\n",
    "df = df.astype('float64')\n",
    "\n",
    "#Split data menjadi training dan testing dengan proporsi 80:20\n",
    "train_size = int(len(df)*0.8)\n",
    "train = df[0:train_size]\n",
    "test = df[train_size:]\n",
    "print(train.shape)\n",
    "print(test.shape)"
   ]
  },
  {
   "cell_type": "code",
   "execution_count": 26,
   "metadata": {},
   "outputs": [],
   "source": [
    "#Membuat fungsi untuk mencari parameter pdq terbaik\n",
    "def find_best_pdq(train, px, dx, qx):\n",
    "    train = train.astype('float64')\n",
    "    best_score, best_cfg = float(\"inf\"), None\n",
    "    for p in px:\n",
    "        for d in dx:\n",
    "            for q in qx:\n",
    "                order = (p,d,q)\n",
    "                try:\n",
    "                    arima_order = (p,d,q)\n",
    "                    arima = ARIMA(train, order=arima_order)\n",
    "                    arima_fit = arima.fit()\n",
    "                    y_pred = arima_fit.forecast(len(test))[0]\n",
    "                    rmse = np.sqrt(mean_squared_error(test, y_pred))\n",
    "                    if rmse < best_score:\n",
    "                        best_score, best_cfg = rmse, order\n",
    "                except:\n",
    "                    continue\n",
    "    print('Best ARIMA%s RMSE=%.3f' % (best_cfg, best_score))"
   ]
  },
  {
   "cell_type": "code",
   "execution_count": 27,
   "metadata": {},
   "outputs": [
    {
     "name": "stdout",
     "output_type": "stream",
     "text": [
      "Best ARIMA(4, 1, 1) RMSE=44.346\n"
     ]
    }
   ],
   "source": [
    "#Mencari nilai pdq terbaik\n",
    "p = range(0, 5)\n",
    "d = range(0, 3)\n",
    "q = range(0, 5)\n",
    "find_best_pdq(train, p, d, q)"
   ]
  },
  {
   "cell_type": "markdown",
   "metadata": {},
   "source": [
    "Didapatkan kombinasi pdq terbaik adalah 4,1,1 dengan RMSE 44.346"
   ]
  },
  {
   "cell_type": "code",
   "execution_count": 28,
   "metadata": {},
   "outputs": [
    {
     "name": "stdout",
     "output_type": "stream",
     "text": [
      "                             ARIMA Model Results                              \n",
      "==============================================================================\n",
      "Dep. Variable:           D.annual_use   No. Observations:                   46\n",
      "Model:                 ARIMA(4, 1, 1)   Log Likelihood                -230.516\n",
      "Method:                       css-mle   S.D. of innovations             35.463\n",
      "Date:                Thu, 10 Oct 2019   AIC                            475.033\n",
      "Time:                        18:11:30   BIC                            487.833\n",
      "Sample:                    01-01-1886   HQIC                           479.828\n",
      "                         - 01-01-1931                                         \n",
      "======================================================================================\n",
      "                         coef    std err          z      P>|z|      [0.025      0.975]\n",
      "--------------------------------------------------------------------------------------\n",
      "const                  2.6154      1.322      1.979      0.055       0.025       5.206\n",
      "ar.L1.D.annual_use     0.8847      0.148      5.986      0.000       0.595       1.174\n",
      "ar.L2.D.annual_use    -0.0803      0.189     -0.424      0.674      -0.452       0.291\n",
      "ar.L3.D.annual_use    -0.2279      0.189     -1.206      0.235      -0.598       0.142\n",
      "ar.L4.D.annual_use     0.1848      0.151      1.226      0.227      -0.111       0.480\n",
      "ma.L1.D.annual_use    -1.0000      0.075    -13.287      0.000      -1.148      -0.852\n",
      "                                    Roots                                    \n",
      "=============================================================================\n",
      "                  Real          Imaginary           Modulus         Frequency\n",
      "-----------------------------------------------------------------------------\n",
      "AR.1           -1.7161           -0.0000j            1.7161           -0.5000\n",
      "AR.2            1.2626           -0.0000j            1.2626           -0.0000\n",
      "AR.3            0.8432           -1.3365j            1.5802           -0.1604\n",
      "AR.4            0.8432           +1.3365j            1.5802            0.1604\n",
      "MA.1            1.0000           +0.0000j            1.0000            0.0000\n",
      "-----------------------------------------------------------------------------\n"
     ]
    }
   ],
   "source": [
    "arima_order = (4,1,1)\n",
    "arima = ARIMA(train, order=arima_order)\n",
    "arima_fit = arima.fit()\n",
    "print(arima_fit.summary())"
   ]
  },
  {
   "cell_type": "code",
   "execution_count": 29,
   "metadata": {},
   "outputs": [
    {
     "data": {
      "text/html": [
       "<div>\n",
       "<style scoped>\n",
       "    .dataframe tbody tr th:only-of-type {\n",
       "        vertical-align: middle;\n",
       "    }\n",
       "\n",
       "    .dataframe tbody tr th {\n",
       "        vertical-align: top;\n",
       "    }\n",
       "\n",
       "    .dataframe thead th {\n",
       "        text-align: right;\n",
       "    }\n",
       "</style>\n",
       "<table border=\"1\" class=\"dataframe\">\n",
       "  <thead>\n",
       "    <tr style=\"text-align: right;\">\n",
       "      <th></th>\n",
       "      <th>prediksi</th>\n",
       "      <th>actual</th>\n",
       "    </tr>\n",
       "    <tr>\n",
       "      <th>year</th>\n",
       "      <th></th>\n",
       "      <th></th>\n",
       "    </tr>\n",
       "  </thead>\n",
       "  <tbody>\n",
       "    <tr>\n",
       "      <th>1932-01-01</th>\n",
       "      <td>511.082833</td>\n",
       "      <td>488.0</td>\n",
       "    </tr>\n",
       "    <tr>\n",
       "      <th>1933-01-01</th>\n",
       "      <td>519.459692</td>\n",
       "      <td>466.0</td>\n",
       "    </tr>\n",
       "    <tr>\n",
       "      <th>1934-01-01</th>\n",
       "      <td>518.242362</td>\n",
       "      <td>492.0</td>\n",
       "    </tr>\n",
       "    <tr>\n",
       "      <th>1935-01-01</th>\n",
       "      <td>522.853049</td>\n",
       "      <td>503.0</td>\n",
       "    </tr>\n",
       "    <tr>\n",
       "      <th>1936-01-01</th>\n",
       "      <td>527.239028</td>\n",
       "      <td>515.0</td>\n",
       "    </tr>\n",
       "  </tbody>\n",
       "</table>\n",
       "</div>"
      ],
      "text/plain": [
       "              prediksi  actual\n",
       "year                          \n",
       "1932-01-01  511.082833   488.0\n",
       "1933-01-01  519.459692   466.0\n",
       "1934-01-01  518.242362   492.0\n",
       "1935-01-01  522.853049   503.0\n",
       "1936-01-01  527.239028   515.0"
      ]
     },
     "execution_count": 29,
     "metadata": {},
     "output_type": "execute_result"
    }
   ],
   "source": [
    "#Nilai prediksi dari model\n",
    "y_pred = arima_fit.forecast(len(test))[0]\n",
    "df_test = pd.DataFrame(y_pred, columns=['prediksi'], index=test.index)\n",
    "df_test['actual'] = test.values\n",
    "df_test.head()"
   ]
  },
  {
   "cell_type": "code",
   "execution_count": 30,
   "metadata": {},
   "outputs": [
    {
     "data": {
      "image/png": "[encoded data removed]",
      "text/plain": [
       "<Figure size 576x288 with 1 Axes>"
      ]
     },
     "metadata": {
      "needs_background": "light"
     },
     "output_type": "display_data"
    }
   ],
   "source": [
    "#Actual vs Forecasted in test dataset\n",
    "plt.figure(figsize=(8,4))\n",
    "plt.plot(df_test['prediksi'], color='blue', label='prediksi')\n",
    "plt.plot(df_test['actual'], color='black', label='actual')\n",
    "plt.legend()\n",
    "plt.show()"
   ]
  },
  {
   "cell_type": "code",
   "execution_count": 31,
   "metadata": {},
   "outputs": [
    {
     "name": "stdout",
     "output_type": "stream",
     "text": [
      "Nilai RMSE 44.346244421119415\n"
     ]
    }
   ],
   "source": [
    "#check error\n",
    "rmse = np.sqrt(mean_squared_error(df_test['actual'], df_test['prediksi']))\n",
    "print(f'Nilai RMSE {rmse}')"
   ]
  },
  {
   "cell_type": "markdown",
   "metadata": {},
   "source": [
    "# Kesimpulan\n",
    "- Data memiliki efek trend dan harus di differencing sebanyak 1x.\n",
    "- Setelah melakukan training, didapatkan Arima model terbaik adalah dengan komposisi pdq (4,1,1) dengan nilai RMSE sebesar 44.34.\n",
    "- Selanjutnya adalah melakukan prediksi menggunakan model arima (4,1,1) untuk data validation.csv."
   ]
  },
  {
   "cell_type": "markdown",
   "metadata": {},
   "source": [
    "## Prediksi Untuk Data Validation.csv"
   ]
  },
  {
   "cell_type": "code",
   "execution_count": 32,
   "metadata": {},
   "outputs": [],
   "source": [
    "#load data validation\n",
    "validation = pd.read_csv('validation.csv')"
   ]
  },
  {
   "cell_type": "code",
   "execution_count": 33,
   "metadata": {},
   "outputs": [],
   "source": [
    "#Mengubah features year kedalam bentuk datetime\n",
    "validation['year'] = pd.to_datetime(validation['year'], format='%Y')\n",
    "\n",
    "#Menjadikan feature year sebagai index\n",
    "validation.set_index(validation['year'], inplace=True)\n",
    "\n",
    "#menghapus feature year\n",
    "validation.drop(columns=['year', 'Unnamed: 0'], inplace=True)"
   ]
  },
  {
   "cell_type": "code",
   "execution_count": 34,
   "metadata": {},
   "outputs": [
    {
     "name": "stdout",
     "output_type": "stream",
     "text": [
      "                             ARIMA Model Results                              \n",
      "==============================================================================\n",
      "Dep. Variable:           D.annual_use   No. Observations:                   58\n",
      "Model:                 ARIMA(4, 1, 1)   Log Likelihood                -287.368\n",
      "Method:                       css-mle   S.D. of innovations             33.700\n",
      "Date:                Thu, 10 Oct 2019   AIC                            588.737\n",
      "Time:                        18:11:31   BIC                            603.160\n",
      "Sample:                    01-01-1886   HQIC                           594.355\n",
      "                         - 01-01-1943                                         \n",
      "======================================================================================\n",
      "                         coef    std err          z      P>|z|      [0.025      0.975]\n",
      "--------------------------------------------------------------------------------------\n",
      "const                  3.2694      1.171      2.792      0.007       0.974       5.565\n",
      "ar.L1.D.annual_use     0.9108      0.132      6.916      0.000       0.653       1.169\n",
      "ar.L2.D.annual_use    -0.1088      0.173     -0.629      0.532      -0.448       0.230\n",
      "ar.L3.D.annual_use    -0.1613      0.173     -0.933      0.355      -0.500       0.178\n",
      "ar.L4.D.annual_use     0.1634      0.132      1.239      0.221      -0.095       0.422\n",
      "ma.L1.D.annual_use    -0.9999      0.049    -20.544      0.000      -1.095      -0.905\n",
      "                                    Roots                                    \n",
      "=============================================================================\n",
      "                  Real          Imaginary           Modulus         Frequency\n",
      "-----------------------------------------------------------------------------\n",
      "AR.1           -1.8765           -0.0000j            1.8765           -0.5000\n",
      "AR.2            1.2033           -0.0000j            1.2033           -0.0000\n",
      "AR.3            0.8301           -1.4215j            1.6462           -0.1659\n",
      "AR.4            0.8301           +1.4215j            1.6462            0.1659\n",
      "MA.1            1.0001           +0.0000j            1.0001            0.0000\n",
      "-----------------------------------------------------------------------------\n"
     ]
    }
   ],
   "source": [
    "#Training ARIMA ini menggunakan seluruh data yang ada di dataset.\n",
    "arima_order = (4,1,1)\n",
    "arima = ARIMA(df, order=arima_order)\n",
    "arima_fit = arima.fit()\n",
    "print(arima_fit.summary())"
   ]
  },
  {
   "cell_type": "code",
   "execution_count": 35,
   "metadata": {},
   "outputs": [
    {
     "data": {
      "text/html": [
       "<div>\n",
       "<style scoped>\n",
       "    .dataframe tbody tr th:only-of-type {\n",
       "        vertical-align: middle;\n",
       "    }\n",
       "\n",
       "    .dataframe tbody tr th {\n",
       "        vertical-align: top;\n",
       "    }\n",
       "\n",
       "    .dataframe thead th {\n",
       "        text-align: right;\n",
       "    }\n",
       "</style>\n",
       "<table border=\"1\" class=\"dataframe\">\n",
       "  <thead>\n",
       "    <tr style=\"text-align: right;\">\n",
       "      <th></th>\n",
       "      <th>prediksi</th>\n",
       "      <th>actual</th>\n",
       "    </tr>\n",
       "    <tr>\n",
       "      <th>year</th>\n",
       "      <th></th>\n",
       "      <th></th>\n",
       "    </tr>\n",
       "  </thead>\n",
       "  <tbody>\n",
       "    <tr>\n",
       "      <th>1959-01-01</th>\n",
       "      <td>634.878531</td>\n",
       "      <td>594</td>\n",
       "    </tr>\n",
       "    <tr>\n",
       "      <th>1960-01-01</th>\n",
       "      <td>637.760906</td>\n",
       "      <td>587</td>\n",
       "    </tr>\n",
       "    <tr>\n",
       "      <th>1961-01-01</th>\n",
       "      <td>640.706713</td>\n",
       "      <td>587</td>\n",
       "    </tr>\n",
       "    <tr>\n",
       "      <th>1962-01-01</th>\n",
       "      <td>643.704566</td>\n",
       "      <td>625</td>\n",
       "    </tr>\n",
       "    <tr>\n",
       "      <th>1963-01-01</th>\n",
       "      <td>646.747343</td>\n",
       "      <td>613</td>\n",
       "    </tr>\n",
       "  </tbody>\n",
       "</table>\n",
       "</div>"
      ],
      "text/plain": [
       "              prediksi  actual\n",
       "year                          \n",
       "1959-01-01  634.878531     594\n",
       "1960-01-01  637.760906     587\n",
       "1961-01-01  640.706713     587\n",
       "1962-01-01  643.704566     625\n",
       "1963-01-01  646.747343     613"
      ]
     },
     "execution_count": 35,
     "metadata": {},
     "output_type": "execute_result"
    }
   ],
   "source": [
    "#Nilai prediksi dari model\n",
    "y_pred = arima_fit.forecast(len(validation))[0]\n",
    "df_validation = pd.DataFrame(y_pred, columns=['prediksi'], index=validation.index)\n",
    "df_validation['actual'] = validation.values\n",
    "df_validation.tail()"
   ]
  },
  {
   "cell_type": "code",
   "execution_count": 36,
   "metadata": {},
   "outputs": [
    {
     "data": {
      "image/png": "[encoded data removed]",
      "text/plain": [
       "<Figure size 576x288 with 1 Axes>"
      ]
     },
     "metadata": {
      "needs_background": "light"
     },
     "output_type": "display_data"
    }
   ],
   "source": [
    "#Actual vs Forecasted in test dataset\n",
    "plt.figure(figsize=(8,4))\n",
    "plt.plot(df_validation['prediksi'], color='blue', label='prediksi')\n",
    "plt.plot(df_validation['actual'], color='black', label='actual')\n",
    "plt.legend()\n",
    "plt.show()"
   ]
  },
  {
   "cell_type": "code",
   "execution_count": 37,
   "metadata": {},
   "outputs": [
    {
     "name": "stdout",
     "output_type": "stream",
     "text": [
      "Nilai RMSE 42.60480028778552\n"
     ]
    }
   ],
   "source": [
    "#check error\n",
    "rmse = np.sqrt(mean_squared_error(df_validation['actual'], df_validation['prediksi']))\n",
    "print(f'Nilai RMSE {rmse}')"
   ]
  },
  {
   "cell_type": "markdown",
   "metadata": {},
   "source": [
    "- Didapatkan ternyata RMSE dari data validation.csv didapatkan 42 yang tidak jauh beda dengan RMSE dari model yaitu 44.\n",
    "- Bisa dikatakan model sudah bagus dan bisa dilanjutkan untuk forecast tahun selanjutnya."
   ]
  },
  {
   "cell_type": "code",
   "execution_count": 38,
   "metadata": {},
   "outputs": [
    {
     "data": {
      "image/png": "[encoded data removed]",
      "text/plain": [
       "<Figure size 432x288 with 1 Axes>"
      ]
     },
     "metadata": {
      "needs_background": "light"
     },
     "output_type": "display_data"
    }
   ],
   "source": [
    "#Forecast untuk 5 tahun kedepan\n",
    "arima_fit.plot_predict(end='1968')\n",
    "plt.show()"
   ]
  }
 ],
 "metadata": {
  "kernelspec": {
   "display_name": "Python 3",
   "language": "python",
   "name": "python3"
  },
  "language_info": {
   "codemirror_mode": {
    "name": "ipython",
    "version": 3
   },
   "file_extension": ".py",
   "mimetype": "text/x-python",
   "name": "python",
   "nbconvert_exporter": "python",
   "pygments_lexer": "ipython3",
   "version": "3.7.3"
  }
 },
 "nbformat": 4,
 "nbformat_minor": 2
}
