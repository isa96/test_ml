{
 "cells": [
  {
   "cell_type": "markdown",
   "metadata": {},
   "source": [
    "# Read Me\n",
    "\n",
    "- Dalam kasus ini, saya akan menggunakan 2 cara, yaitu cara yang pertama mengikuti instruksi yang ada di soal\n",
    "- Yang ke 2 saya menggunakan model untuk membandingkan.\n",
    "- Lalu saya akan coba untuk memprediksi harga dari sebuah apartemen dengan spesifikasi sebagai berikut:\n",
    "    - area = 650000000\n",
    "    - age = 5\n",
    "    - floor = 4\n",
    "    - rooms = 6\n",
    "    - toilets = 4\n",
    "    - garage = 1\n",
    "    - elevator = 1\n",
    "    - tras = 0\n",
    "    - conservation_1 = 1\n",
    "    - conservation_2 = 0\n",
    "    - conservation_3 = 0"
   ]
  },
  {
   "cell_type": "markdown",
   "metadata": {},
   "source": [
    "# Cara Pertama Sesuai Instruksi\n",
    "***"
   ]
  },
  {
   "cell_type": "markdown",
   "metadata": {},
   "source": [
    "## 0. Load Library\n",
    "\n",
    "- Memuat beberapa library yang akan saya gunakan dalam analisis ini."
   ]
  },
  {
   "cell_type": "code",
   "execution_count": 49,
   "metadata": {},
   "outputs": [],
   "source": [
    "import pandas as pd\n",
    "import numpy as np\n",
    "\n",
    "import matplotlib.pyplot as plt\n",
    "import seaborn as sns\n",
    "\n",
    "from sklearn.linear_model import LinearRegression\n",
    "from sklearn.tree import DecisionTreeRegressor\n",
    "from sklearn.ensemble import RandomForestRegressor\n",
    "from sklearn.model_selection import train_test_split\n",
    "from sklearn.metrics import mean_absolute_error\n",
    "from sklearn.metrics import mean_squared_error\n",
    "\n",
    "import warnings\n",
    "warnings.filterwarnings('ignore')"
   ]
  },
  {
   "cell_type": "markdown",
   "metadata": {},
   "source": [
    "## 1. Load the Datasets\n",
    "- Memuat data yang akan digunakan."
   ]
  },
  {
   "cell_type": "code",
   "execution_count": 50,
   "metadata": {},
   "outputs": [],
   "source": [
    "df = pd.read_csv('victoria.csv')"
   ]
  },
  {
   "cell_type": "markdown",
   "metadata": {},
   "source": [
    "## 2. Exploratory Data Analysis (EDA)\n",
    "- Melakukan EDA untuk mengetahui secara lebih mendalam dari data yang digunakan."
   ]
  },
  {
   "cell_type": "code",
   "execution_count": 51,
   "metadata": {},
   "outputs": [
    {
     "data": {
      "text/html": [
       "<div>\n",
       "<style scoped>\n",
       "    .dataframe tbody tr th:only-of-type {\n",
       "        vertical-align: middle;\n",
       "    }\n",
       "\n",
       "    .dataframe tbody tr th {\n",
       "        vertical-align: top;\n",
       "    }\n",
       "\n",
       "    .dataframe thead th {\n",
       "        text-align: right;\n",
       "    }\n",
       "</style>\n",
       "<table border=\"1\" class=\"dataframe\">\n",
       "  <thead>\n",
       "    <tr style=\"text-align: right;\">\n",
       "      <th></th>\n",
       "      <th>row.labels</th>\n",
       "      <th>totalprice</th>\n",
       "      <th>area</th>\n",
       "      <th>zone</th>\n",
       "      <th>category</th>\n",
       "      <th>age</th>\n",
       "      <th>floor</th>\n",
       "      <th>rooms</th>\n",
       "      <th>out</th>\n",
       "      <th>conservation</th>\n",
       "      <th>toilets</th>\n",
       "      <th>garage</th>\n",
       "      <th>elevator</th>\n",
       "      <th>streetcategory</th>\n",
       "      <th>heating</th>\n",
       "      <th>tras</th>\n",
       "    </tr>\n",
       "  </thead>\n",
       "  <tbody>\n",
       "    <tr>\n",
       "      <th>0</th>\n",
       "      <td>1</td>\n",
       "      <td>228000</td>\n",
       "      <td>7530999756</td>\n",
       "      <td>Z45</td>\n",
       "      <td>4B</td>\n",
       "      <td>33</td>\n",
       "      <td>3</td>\n",
       "      <td>5</td>\n",
       "      <td>E100</td>\n",
       "      <td>2B</td>\n",
       "      <td>1</td>\n",
       "      <td>0</td>\n",
       "      <td>1</td>\n",
       "      <td>S3</td>\n",
       "      <td>3A</td>\n",
       "      <td>0</td>\n",
       "    </tr>\n",
       "    <tr>\n",
       "      <th>1</th>\n",
       "      <td>2</td>\n",
       "      <td>409000</td>\n",
       "      <td>1006500015</td>\n",
       "      <td>Z31</td>\n",
       "      <td>3B</td>\n",
       "      <td>5</td>\n",
       "      <td>7</td>\n",
       "      <td>5</td>\n",
       "      <td>E50</td>\n",
       "      <td>1A</td>\n",
       "      <td>2</td>\n",
       "      <td>1</td>\n",
       "      <td>1</td>\n",
       "      <td>S5</td>\n",
       "      <td>4A</td>\n",
       "      <td>1</td>\n",
       "    </tr>\n",
       "    <tr>\n",
       "      <th>2</th>\n",
       "      <td>3</td>\n",
       "      <td>200000</td>\n",
       "      <td>8887000275</td>\n",
       "      <td>Z52</td>\n",
       "      <td>3A</td>\n",
       "      <td>14</td>\n",
       "      <td>8</td>\n",
       "      <td>5</td>\n",
       "      <td>E50</td>\n",
       "      <td>1A</td>\n",
       "      <td>2</td>\n",
       "      <td>0</td>\n",
       "      <td>1</td>\n",
       "      <td>S2</td>\n",
       "      <td>3A</td>\n",
       "      <td>0</td>\n",
       "    </tr>\n",
       "    <tr>\n",
       "      <th>3</th>\n",
       "      <td>4</td>\n",
       "      <td>180000</td>\n",
       "      <td>6261000061</td>\n",
       "      <td>Z62</td>\n",
       "      <td>4A</td>\n",
       "      <td>41</td>\n",
       "      <td>3</td>\n",
       "      <td>4</td>\n",
       "      <td>E50</td>\n",
       "      <td>2A</td>\n",
       "      <td>1</td>\n",
       "      <td>0</td>\n",
       "      <td>0</td>\n",
       "      <td>S3</td>\n",
       "      <td>1A</td>\n",
       "      <td>0</td>\n",
       "    </tr>\n",
       "    <tr>\n",
       "      <th>4</th>\n",
       "      <td>5</td>\n",
       "      <td>443600</td>\n",
       "      <td>1461499939</td>\n",
       "      <td>Z31</td>\n",
       "      <td>3A</td>\n",
       "      <td>22</td>\n",
       "      <td>6</td>\n",
       "      <td>7</td>\n",
       "      <td>E100</td>\n",
       "      <td>1A</td>\n",
       "      <td>2</td>\n",
       "      <td>0</td>\n",
       "      <td>1</td>\n",
       "      <td>S4</td>\n",
       "      <td>4A</td>\n",
       "      <td>1</td>\n",
       "    </tr>\n",
       "  </tbody>\n",
       "</table>\n",
       "</div>"
      ],
      "text/plain": [
       "   row.labels totalprice        area zone category  age  floor  rooms   out  \\\n",
       "0           1     228000  7530999756  Z45       4B   33      3      5  E100   \n",
       "1           2     409000  1006500015  Z31       3B    5      7      5   E50   \n",
       "2           3     200000  8887000275  Z52       3A   14      8      5   E50   \n",
       "3           4     180000  6261000061  Z62       4A   41      3      4   E50   \n",
       "4           5     443600  1461499939  Z31       3A   22      6      7  E100   \n",
       "\n",
       "  conservation  toilets  garage  elevator streetcategory heating  tras  \n",
       "0           2B        1       0         1             S3      3A     0  \n",
       "1           1A        2       1         1             S5      4A     1  \n",
       "2           1A        2       0         1             S2      3A     0  \n",
       "3           2A        1       0         0             S3      1A     0  \n",
       "4           1A        2       0         1             S4      4A     1  "
      ]
     },
     "execution_count": 51,
     "metadata": {},
     "output_type": "execute_result"
    }
   ],
   "source": [
    "#Melihat 5 data teratas\n",
    "df.head()"
   ]
  },
  {
   "cell_type": "code",
   "execution_count": 52,
   "metadata": {},
   "outputs": [
    {
     "data": {
      "text/plain": [
       "(218, 16)"
      ]
     },
     "execution_count": 52,
     "metadata": {},
     "output_type": "execute_result"
    }
   ],
   "source": [
    "#Melihat dimensi dari data\n",
    "df.shape"
   ]
  },
  {
   "cell_type": "markdown",
   "metadata": {},
   "source": [
    "- Terdapat 218 rows dan 16 features/columns"
   ]
  },
  {
   "cell_type": "code",
   "execution_count": 53,
   "metadata": {
    "scrolled": true
   },
   "outputs": [
    {
     "data": {
      "text/html": [
       "<div>\n",
       "<style scoped>\n",
       "    .dataframe tbody tr th:only-of-type {\n",
       "        vertical-align: middle;\n",
       "    }\n",
       "\n",
       "    .dataframe tbody tr th {\n",
       "        vertical-align: top;\n",
       "    }\n",
       "\n",
       "    .dataframe thead th {\n",
       "        text-align: right;\n",
       "    }\n",
       "</style>\n",
       "<table border=\"1\" class=\"dataframe\">\n",
       "  <thead>\n",
       "    <tr style=\"text-align: right;\">\n",
       "      <th></th>\n",
       "      <th>row.labels</th>\n",
       "      <th>age</th>\n",
       "      <th>floor</th>\n",
       "      <th>rooms</th>\n",
       "      <th>toilets</th>\n",
       "      <th>garage</th>\n",
       "      <th>elevator</th>\n",
       "      <th>tras</th>\n",
       "    </tr>\n",
       "  </thead>\n",
       "  <tbody>\n",
       "    <tr>\n",
       "      <th>count</th>\n",
       "      <td>218.000000</td>\n",
       "      <td>218.000000</td>\n",
       "      <td>218.000000</td>\n",
       "      <td>218.000000</td>\n",
       "      <td>218.000000</td>\n",
       "      <td>218.000000</td>\n",
       "      <td>218.000000</td>\n",
       "      <td>218.000000</td>\n",
       "    </tr>\n",
       "    <tr>\n",
       "      <th>mean</th>\n",
       "      <td>109.500000</td>\n",
       "      <td>19.899083</td>\n",
       "      <td>4.440367</td>\n",
       "      <td>4.853211</td>\n",
       "      <td>1.467890</td>\n",
       "      <td>0.243119</td>\n",
       "      <td>0.798165</td>\n",
       "      <td>0.807339</td>\n",
       "    </tr>\n",
       "    <tr>\n",
       "      <th>std</th>\n",
       "      <td>63.075352</td>\n",
       "      <td>14.595590</td>\n",
       "      <td>2.126988</td>\n",
       "      <td>0.634285</td>\n",
       "      <td>0.500116</td>\n",
       "      <td>0.450881</td>\n",
       "      <td>0.402293</td>\n",
       "      <td>0.406787</td>\n",
       "    </tr>\n",
       "    <tr>\n",
       "      <th>min</th>\n",
       "      <td>1.000000</td>\n",
       "      <td>1.000000</td>\n",
       "      <td>1.000000</td>\n",
       "      <td>3.000000</td>\n",
       "      <td>1.000000</td>\n",
       "      <td>0.000000</td>\n",
       "      <td>0.000000</td>\n",
       "      <td>0.000000</td>\n",
       "    </tr>\n",
       "    <tr>\n",
       "      <th>25%</th>\n",
       "      <td>55.250000</td>\n",
       "      <td>11.000000</td>\n",
       "      <td>3.000000</td>\n",
       "      <td>5.000000</td>\n",
       "      <td>1.000000</td>\n",
       "      <td>0.000000</td>\n",
       "      <td>1.000000</td>\n",
       "      <td>1.000000</td>\n",
       "    </tr>\n",
       "    <tr>\n",
       "      <th>50%</th>\n",
       "      <td>109.500000</td>\n",
       "      <td>16.000000</td>\n",
       "      <td>4.000000</td>\n",
       "      <td>5.000000</td>\n",
       "      <td>1.000000</td>\n",
       "      <td>0.000000</td>\n",
       "      <td>1.000000</td>\n",
       "      <td>1.000000</td>\n",
       "    </tr>\n",
       "    <tr>\n",
       "      <th>75%</th>\n",
       "      <td>163.750000</td>\n",
       "      <td>24.000000</td>\n",
       "      <td>5.000000</td>\n",
       "      <td>5.000000</td>\n",
       "      <td>2.000000</td>\n",
       "      <td>0.000000</td>\n",
       "      <td>1.000000</td>\n",
       "      <td>1.000000</td>\n",
       "    </tr>\n",
       "    <tr>\n",
       "      <th>max</th>\n",
       "      <td>218.000000</td>\n",
       "      <td>118.000000</td>\n",
       "      <td>12.000000</td>\n",
       "      <td>7.000000</td>\n",
       "      <td>2.000000</td>\n",
       "      <td>2.000000</td>\n",
       "      <td>1.000000</td>\n",
       "      <td>2.000000</td>\n",
       "    </tr>\n",
       "  </tbody>\n",
       "</table>\n",
       "</div>"
      ],
      "text/plain": [
       "       row.labels         age       floor       rooms     toilets      garage  \\\n",
       "count  218.000000  218.000000  218.000000  218.000000  218.000000  218.000000   \n",
       "mean   109.500000   19.899083    4.440367    4.853211    1.467890    0.243119   \n",
       "std     63.075352   14.595590    2.126988    0.634285    0.500116    0.450881   \n",
       "min      1.000000    1.000000    1.000000    3.000000    1.000000    0.000000   \n",
       "25%     55.250000   11.000000    3.000000    5.000000    1.000000    0.000000   \n",
       "50%    109.500000   16.000000    4.000000    5.000000    1.000000    0.000000   \n",
       "75%    163.750000   24.000000    5.000000    5.000000    2.000000    0.000000   \n",
       "max    218.000000  118.000000   12.000000    7.000000    2.000000    2.000000   \n",
       "\n",
       "         elevator        tras  \n",
       "count  218.000000  218.000000  \n",
       "mean     0.798165    0.807339  \n",
       "std      0.402293    0.406787  \n",
       "min      0.000000    0.000000  \n",
       "25%      1.000000    1.000000  \n",
       "50%      1.000000    1.000000  \n",
       "75%      1.000000    1.000000  \n",
       "max      1.000000    2.000000  "
      ]
     },
     "execution_count": 53,
     "metadata": {},
     "output_type": "execute_result"
    }
   ],
   "source": [
    "#Melihat statistika deskriptis dari data mulai dari mean, stdev, min, max dan quartile.\n",
    "#Untuk data numerikal\n",
    "df.describe()"
   ]
  },
  {
   "cell_type": "code",
   "execution_count": 54,
   "metadata": {},
   "outputs": [
    {
     "data": {
      "text/html": [
       "<div>\n",
       "<style scoped>\n",
       "    .dataframe tbody tr th:only-of-type {\n",
       "        vertical-align: middle;\n",
       "    }\n",
       "\n",
       "    .dataframe tbody tr th {\n",
       "        vertical-align: top;\n",
       "    }\n",
       "\n",
       "    .dataframe thead th {\n",
       "        text-align: right;\n",
       "    }\n",
       "</style>\n",
       "<table border=\"1\" class=\"dataframe\">\n",
       "  <thead>\n",
       "    <tr style=\"text-align: right;\">\n",
       "      <th></th>\n",
       "      <th>totalprice</th>\n",
       "      <th>area</th>\n",
       "      <th>zone</th>\n",
       "      <th>category</th>\n",
       "      <th>out</th>\n",
       "      <th>conservation</th>\n",
       "      <th>streetcategory</th>\n",
       "      <th>heating</th>\n",
       "    </tr>\n",
       "  </thead>\n",
       "  <tbody>\n",
       "    <tr>\n",
       "      <th>count</th>\n",
       "      <td>218</td>\n",
       "      <td>218</td>\n",
       "      <td>218</td>\n",
       "      <td>218</td>\n",
       "      <td>218</td>\n",
       "      <td>218</td>\n",
       "      <td>218</td>\n",
       "      <td>218</td>\n",
       "    </tr>\n",
       "    <tr>\n",
       "      <th>unique</th>\n",
       "      <td>155</td>\n",
       "      <td>207</td>\n",
       "      <td>23</td>\n",
       "      <td>7</td>\n",
       "      <td>4</td>\n",
       "      <td>4</td>\n",
       "      <td>4</td>\n",
       "      <td>4</td>\n",
       "    </tr>\n",
       "    <tr>\n",
       "      <th>top</th>\n",
       "      <td>270000</td>\n",
       "      <td>7479000092</td>\n",
       "      <td>Z41</td>\n",
       "      <td>3B</td>\n",
       "      <td>E100</td>\n",
       "      <td>1A</td>\n",
       "      <td>S3</td>\n",
       "      <td>3A</td>\n",
       "    </tr>\n",
       "    <tr>\n",
       "      <th>freq</th>\n",
       "      <td>7</td>\n",
       "      <td>2</td>\n",
       "      <td>18</td>\n",
       "      <td>77</td>\n",
       "      <td>122</td>\n",
       "      <td>161</td>\n",
       "      <td>107</td>\n",
       "      <td>149</td>\n",
       "    </tr>\n",
       "  </tbody>\n",
       "</table>\n",
       "</div>"
      ],
      "text/plain": [
       "       totalprice        area zone category   out conservation streetcategory  \\\n",
       "count         218         218  218      218   218          218            218   \n",
       "unique        155         207   23        7     4            4              4   \n",
       "top        270000  7479000092  Z41       3B  E100           1A             S3   \n",
       "freq            7           2   18       77   122          161            107   \n",
       "\n",
       "       heating  \n",
       "count      218  \n",
       "unique       4  \n",
       "top         3A  \n",
       "freq       149  "
      ]
     },
     "execution_count": 54,
     "metadata": {},
     "output_type": "execute_result"
    }
   ],
   "source": [
    "#Deskripsi dari data untuk data kategorikal\n",
    "df.describe(include='object')"
   ]
  },
  {
   "cell_type": "code",
   "execution_count": 55,
   "metadata": {},
   "outputs": [
    {
     "name": "stdout",
     "output_type": "stream",
     "text": [
      "<class 'pandas.core.frame.DataFrame'>\n",
      "RangeIndex: 218 entries, 0 to 217\n",
      "Data columns (total 16 columns):\n",
      "row.labels        218 non-null int64\n",
      "totalprice        218 non-null object\n",
      "area              218 non-null object\n",
      "zone              218 non-null object\n",
      "category          218 non-null object\n",
      "age               218 non-null int64\n",
      "floor             218 non-null int64\n",
      "rooms             218 non-null int64\n",
      "out               218 non-null object\n",
      "conservation      218 non-null object\n",
      "toilets           218 non-null int64\n",
      "garage            218 non-null int64\n",
      "elevator          218 non-null int64\n",
      "streetcategory    218 non-null object\n",
      "heating           218 non-null object\n",
      "tras              218 non-null int64\n",
      "dtypes: int64(8), object(8)\n",
      "memory usage: 27.3+ KB\n"
     ]
    }
   ],
   "source": [
    "#Melihat general information dari data mulai dari nama features, jenis data dan jumlah data.\n",
    "df.info()"
   ]
  },
  {
   "cell_type": "code",
   "execution_count": 56,
   "metadata": {},
   "outputs": [],
   "source": [
    "#Data Cleansing\n",
    "#Agar featues totalprice dan area bisa diconvert ke dalam numerikal\n",
    "df['totalprice'] = df['totalprice'].replace(r'[,]','.', regex=True)\n",
    "df['area'] = df['area'].replace(r'[,]','.', regex=True)"
   ]
  },
  {
   "cell_type": "code",
   "execution_count": 57,
   "metadata": {},
   "outputs": [],
   "source": [
    "#Mengubah ke data numerik agar bisa dimasukan ke dalam model\n",
    "df['totalprice'] = pd.to_numeric(df['totalprice'])\n",
    "df['area'] = pd.to_numeric(df['area'])"
   ]
  },
  {
   "cell_type": "markdown",
   "metadata": {},
   "source": [
    "## 3. Data Visualization\n",
    "- Melihat karakteristik dari data dengan visualisasi."
   ]
  },
  {
   "cell_type": "code",
   "execution_count": 58,
   "metadata": {},
   "outputs": [
    {
     "data": {
      "text/html": [
       "<div>\n",
       "<style scoped>\n",
       "    .dataframe tbody tr th:only-of-type {\n",
       "        vertical-align: middle;\n",
       "    }\n",
       "\n",
       "    .dataframe tbody tr th {\n",
       "        vertical-align: top;\n",
       "    }\n",
       "\n",
       "    .dataframe thead th {\n",
       "        text-align: right;\n",
       "    }\n",
       "</style>\n",
       "<table border=\"1\" class=\"dataframe\">\n",
       "  <thead>\n",
       "    <tr style=\"text-align: right;\">\n",
       "      <th></th>\n",
       "      <th>row.labels</th>\n",
       "      <th>totalprice</th>\n",
       "      <th>area</th>\n",
       "      <th>zone</th>\n",
       "      <th>category</th>\n",
       "      <th>age</th>\n",
       "      <th>floor</th>\n",
       "      <th>rooms</th>\n",
       "      <th>out</th>\n",
       "      <th>conservation</th>\n",
       "      <th>toilets</th>\n",
       "      <th>garage</th>\n",
       "      <th>elevator</th>\n",
       "      <th>streetcategory</th>\n",
       "      <th>heating</th>\n",
       "      <th>tras</th>\n",
       "    </tr>\n",
       "  </thead>\n",
       "  <tbody>\n",
       "    <tr>\n",
       "      <th>0</th>\n",
       "      <td>1</td>\n",
       "      <td>228000.0</td>\n",
       "      <td>7.531000e+09</td>\n",
       "      <td>Z45</td>\n",
       "      <td>4B</td>\n",
       "      <td>33</td>\n",
       "      <td>3</td>\n",
       "      <td>5</td>\n",
       "      <td>E100</td>\n",
       "      <td>2B</td>\n",
       "      <td>1</td>\n",
       "      <td>0</td>\n",
       "      <td>1</td>\n",
       "      <td>S3</td>\n",
       "      <td>3A</td>\n",
       "      <td>0</td>\n",
       "    </tr>\n",
       "    <tr>\n",
       "      <th>1</th>\n",
       "      <td>2</td>\n",
       "      <td>409000.0</td>\n",
       "      <td>1.006500e+09</td>\n",
       "      <td>Z31</td>\n",
       "      <td>3B</td>\n",
       "      <td>5</td>\n",
       "      <td>7</td>\n",
       "      <td>5</td>\n",
       "      <td>E50</td>\n",
       "      <td>1A</td>\n",
       "      <td>2</td>\n",
       "      <td>1</td>\n",
       "      <td>1</td>\n",
       "      <td>S5</td>\n",
       "      <td>4A</td>\n",
       "      <td>1</td>\n",
       "    </tr>\n",
       "    <tr>\n",
       "      <th>2</th>\n",
       "      <td>3</td>\n",
       "      <td>200000.0</td>\n",
       "      <td>8.887000e+09</td>\n",
       "      <td>Z52</td>\n",
       "      <td>3A</td>\n",
       "      <td>14</td>\n",
       "      <td>8</td>\n",
       "      <td>5</td>\n",
       "      <td>E50</td>\n",
       "      <td>1A</td>\n",
       "      <td>2</td>\n",
       "      <td>0</td>\n",
       "      <td>1</td>\n",
       "      <td>S2</td>\n",
       "      <td>3A</td>\n",
       "      <td>0</td>\n",
       "    </tr>\n",
       "    <tr>\n",
       "      <th>3</th>\n",
       "      <td>4</td>\n",
       "      <td>180000.0</td>\n",
       "      <td>6.261000e+09</td>\n",
       "      <td>Z62</td>\n",
       "      <td>4A</td>\n",
       "      <td>41</td>\n",
       "      <td>3</td>\n",
       "      <td>4</td>\n",
       "      <td>E50</td>\n",
       "      <td>2A</td>\n",
       "      <td>1</td>\n",
       "      <td>0</td>\n",
       "      <td>0</td>\n",
       "      <td>S3</td>\n",
       "      <td>1A</td>\n",
       "      <td>0</td>\n",
       "    </tr>\n",
       "    <tr>\n",
       "      <th>4</th>\n",
       "      <td>5</td>\n",
       "      <td>443600.0</td>\n",
       "      <td>1.461500e+09</td>\n",
       "      <td>Z31</td>\n",
       "      <td>3A</td>\n",
       "      <td>22</td>\n",
       "      <td>6</td>\n",
       "      <td>7</td>\n",
       "      <td>E100</td>\n",
       "      <td>1A</td>\n",
       "      <td>2</td>\n",
       "      <td>0</td>\n",
       "      <td>1</td>\n",
       "      <td>S4</td>\n",
       "      <td>4A</td>\n",
       "      <td>1</td>\n",
       "    </tr>\n",
       "  </tbody>\n",
       "</table>\n",
       "</div>"
      ],
      "text/plain": [
       "   row.labels  totalprice          area zone category  age  floor  rooms  \\\n",
       "0           1    228000.0  7.531000e+09  Z45       4B   33      3      5   \n",
       "1           2    409000.0  1.006500e+09  Z31       3B    5      7      5   \n",
       "2           3    200000.0  8.887000e+09  Z52       3A   14      8      5   \n",
       "3           4    180000.0  6.261000e+09  Z62       4A   41      3      4   \n",
       "4           5    443600.0  1.461500e+09  Z31       3A   22      6      7   \n",
       "\n",
       "    out conservation  toilets  garage  elevator streetcategory heating  tras  \n",
       "0  E100           2B        1       0         1             S3      3A     0  \n",
       "1   E50           1A        2       1         1             S5      4A     1  \n",
       "2   E50           1A        2       0         1             S2      3A     0  \n",
       "3   E50           2A        1       0         0             S3      1A     0  \n",
       "4  E100           1A        2       0         1             S4      4A     1  "
      ]
     },
     "execution_count": 58,
     "metadata": {},
     "output_type": "execute_result"
    }
   ],
   "source": [
    "#melihat 5 data teratas\n",
    "df.head()"
   ]
  },
  {
   "cell_type": "code",
   "execution_count": 59,
   "metadata": {
    "scrolled": false
   },
   "outputs": [
    {
     "data": {
      "text/plain": [
       "<matplotlib.axes._subplots.AxesSubplot at 0x270f8527f98>"
      ]
     },
     "execution_count": 59,
     "metadata": {},
     "output_type": "execute_result"
    },
    {
     "data": {
      "image/png": "[encoded data removed]",
      "text/plain": [
       "<Figure size 1152x360 with 2 Axes>"
      ]
     },
     "metadata": {
      "needs_background": "light"
     },
     "output_type": "display_data"
    }
   ],
   "source": [
    "#Univariate Analysis Price\n",
    "f = plt.figure(figsize=(16,5))\n",
    "\n",
    "f.add_subplot(1,2,1)\n",
    "sns.distplot(df['totalprice'])\n",
    "\n",
    "f.add_subplot(1,2,2)\n",
    "sns.boxplot(df['totalprice'])"
   ]
  },
  {
   "cell_type": "markdown",
   "metadata": {},
   "source": [
    "- Dari distplot Dapat dilihat bahwa harga dari apartment terpusat di kisaran harga 250000.\n",
    "- Dari boxplot dapat dilihat bahwa terdapat 1 outliers yaitu di angka 550000."
   ]
  },
  {
   "cell_type": "code",
   "execution_count": 60,
   "metadata": {},
   "outputs": [
    {
     "data": {
      "text/plain": [
       "<matplotlib.axes._subplots.AxesSubplot at 0x270f84753c8>"
      ]
     },
     "execution_count": 60,
     "metadata": {},
     "output_type": "execute_result"
    },
    {
     "data": {
      "image/png": "[encoded data removed]",
      "text/plain": [
       "<Figure size 1152x360 with 2 Axes>"
      ]
     },
     "metadata": {
      "needs_background": "light"
     },
     "output_type": "display_data"
    }
   ],
   "source": [
    "#Univariate Analysis Age\n",
    "f = plt.figure(figsize=(16,5))\n",
    "\n",
    "f.add_subplot(1,2,1)\n",
    "sns.distplot(df['age'], color='green')\n",
    "\n",
    "f.add_subplot(1,2,2)\n",
    "sns.boxplot(df['age'], color='green')"
   ]
  },
  {
   "cell_type": "markdown",
   "metadata": {},
   "source": [
    "- Dari distplot Dapat dilihat persebaran dari umur apartmen terpusat di kisaran umur 20 tahun.\n",
    "- Dari boxplot dapat dilihat bahwa terdapat beberapa outliers."
   ]
  },
  {
   "cell_type": "code",
   "execution_count": 61,
   "metadata": {
    "scrolled": false
   },
   "outputs": [
    {
     "data": {
      "text/plain": [
       "<matplotlib.axes._subplots.AxesSubplot at 0x270f86f7208>"
      ]
     },
     "execution_count": 61,
     "metadata": {},
     "output_type": "execute_result"
    },
    {
     "data": {
      "image/png": "[encoded data removed]",
      "text/plain": [
       "<Figure size 1152x360 with 2 Axes>"
      ]
     },
     "metadata": {
      "needs_background": "light"
     },
     "output_type": "display_data"
    }
   ],
   "source": [
    "#Univariate Analysis Floor\n",
    "f = plt.figure(figsize=(16,5))\n",
    "\n",
    "f.add_subplot(1,2,1)\n",
    "sns.countplot(df['floor'], color='red')\n",
    "\n",
    "f.add_subplot(1,2,2)\n",
    "sns.boxplot(df['floor'], color='red')"
   ]
  },
  {
   "cell_type": "markdown",
   "metadata": {},
   "source": [
    "- Secara umum, jumlah lantai dalam apartemen yang dijual adalah di angka 2-5 lantai.\n",
    "- lantai 9 keatas termasuk ke dalam outliers."
   ]
  },
  {
   "cell_type": "code",
   "execution_count": 62,
   "metadata": {
    "scrolled": true
   },
   "outputs": [
    {
     "data": {
      "text/plain": [
       "<matplotlib.axes._subplots.AxesSubplot at 0x270f87d34a8>"
      ]
     },
     "execution_count": 62,
     "metadata": {},
     "output_type": "execute_result"
    },
    {
     "data": {
      "image/png": "[encoded data removed]",
      "text/plain": [
       "<Figure size 1152x360 with 2 Axes>"
      ]
     },
     "metadata": {
      "needs_background": "light"
     },
     "output_type": "display_data"
    }
   ],
   "source": [
    "#Univariate Analysis rooms\n",
    "f = plt.figure(figsize=(16,5))\n",
    "\n",
    "f.add_subplot(1,2,1)\n",
    "sns.countplot(df['rooms'], color='blue')\n",
    "\n",
    "f.add_subplot(1,2,2)\n",
    "sns.boxplot(df['rooms'], color='blue')"
   ]
  },
  {
   "cell_type": "markdown",
   "metadata": {},
   "source": [
    "- Wow dari gambar dapat diluhat bahwa hampir seetengah dari apartmen memiliki jumlah 5 ruangan."
   ]
  },
  {
   "cell_type": "code",
   "execution_count": 63,
   "metadata": {},
   "outputs": [
    {
     "data": {
      "image/png": "[encoded data removed]",
      "text/plain": [
       "<Figure size 720x360 with 1 Axes>"
      ]
     },
     "metadata": {
      "needs_background": "light"
     },
     "output_type": "display_data"
    }
   ],
   "source": [
    "#Univariate analysis dari zone\n",
    "plt.figure(figsize=(10,5))\n",
    "df['zone'].value_counts().plot('bar')\n",
    "plt.show()"
   ]
  },
  {
   "cell_type": "markdown",
   "metadata": {},
   "source": [
    "- Apartemen paling banyak terdapat di zona Z41."
   ]
  },
  {
   "cell_type": "code",
   "execution_count": 64,
   "metadata": {
    "scrolled": true
   },
   "outputs": [
    {
     "data": {
      "text/plain": [
       "<matplotlib.axes._subplots.AxesSubplot at 0x270f8e71f60>"
      ]
     },
     "execution_count": 64,
     "metadata": {},
     "output_type": "execute_result"
    },
    {
     "data": {
      "image/png": "[encoded data removed]",
      "text/plain": [
       "<Figure size 1152x360 with 1 Axes>"
      ]
     },
     "metadata": {
      "needs_background": "light"
     },
     "output_type": "display_data"
    }
   ],
   "source": [
    "#Univariate Analysis Garage\n",
    "f = plt.figure(figsize=(16,5))\n",
    "\n",
    "f.add_subplot(1,2,1)\n",
    "sns.countplot(df['garage'], color='red')"
   ]
  },
  {
   "cell_type": "markdown",
   "metadata": {},
   "source": [
    "- Dari barplot dapat dilihat bahwa sebagian besar apartemen victoria tidak memiliki garasi."
   ]
  },
  {
   "cell_type": "code",
   "execution_count": 65,
   "metadata": {
    "scrolled": true
   },
   "outputs": [
    {
     "data": {
      "text/plain": [
       "<matplotlib.axes._subplots.AxesSubplot at 0x270f8c4a4e0>"
      ]
     },
     "execution_count": 65,
     "metadata": {},
     "output_type": "execute_result"
    },
    {
     "data": {
      "image/png": "[encoded data removed]",
      "text/plain": [
       "<Figure size 1152x360 with 1 Axes>"
      ]
     },
     "metadata": {
      "needs_background": "light"
     },
     "output_type": "display_data"
    }
   ],
   "source": [
    "#Univariate Analysis elevator\n",
    "f = plt.figure(figsize=(16,5))\n",
    "\n",
    "f.add_subplot(1,2,1)\n",
    "sns.countplot(df['elevator'], color='green')"
   ]
  },
  {
   "cell_type": "markdown",
   "metadata": {},
   "source": [
    "- Dapat dilihat bahwa sebagian besar apartemen hanya memiliki 1 elevator."
   ]
  },
  {
   "cell_type": "code",
   "execution_count": 66,
   "metadata": {},
   "outputs": [
    {
     "data": {
      "text/html": [
       "<style  type=\"text/css\" >\n",
       "    #T_b5271efa_eb4c_11e9_b0b1_309c23131503row0_col0 {\n",
       "            background-color:  #023858;\n",
       "            color:  #f1f1f1;\n",
       "        }    #T_b5271efa_eb4c_11e9_b0b1_309c23131503row0_col1 {\n",
       "            background-color:  #dedcec;\n",
       "            color:  #000000;\n",
       "        }    #T_b5271efa_eb4c_11e9_b0b1_309c23131503row0_col2 {\n",
       "            background-color:  #a7bddb;\n",
       "            color:  #000000;\n",
       "        }    #T_b5271efa_eb4c_11e9_b0b1_309c23131503row0_col3 {\n",
       "            background-color:  #c6cce3;\n",
       "            color:  #000000;\n",
       "        }    #T_b5271efa_eb4c_11e9_b0b1_309c23131503row0_col4 {\n",
       "            background-color:  #f0eaf4;\n",
       "            color:  #000000;\n",
       "        }    #T_b5271efa_eb4c_11e9_b0b1_309c23131503row0_col5 {\n",
       "            background-color:  #ede8f3;\n",
       "            color:  #000000;\n",
       "        }    #T_b5271efa_eb4c_11e9_b0b1_309c23131503row0_col6 {\n",
       "            background-color:  #e2dfee;\n",
       "            color:  #000000;\n",
       "        }    #T_b5271efa_eb4c_11e9_b0b1_309c23131503row0_col7 {\n",
       "            background-color:  #efe9f3;\n",
       "            color:  #000000;\n",
       "        }    #T_b5271efa_eb4c_11e9_b0b1_309c23131503row0_col8 {\n",
       "            background-color:  #b3c3de;\n",
       "            color:  #000000;\n",
       "        }    #T_b5271efa_eb4c_11e9_b0b1_309c23131503row0_col9 {\n",
       "            background-color:  #dad9ea;\n",
       "            color:  #000000;\n",
       "        }    #T_b5271efa_eb4c_11e9_b0b1_309c23131503row1_col0 {\n",
       "            background-color:  #fdf5fa;\n",
       "            color:  #000000;\n",
       "        }    #T_b5271efa_eb4c_11e9_b0b1_309c23131503row1_col1 {\n",
       "            background-color:  #023858;\n",
       "            color:  #f1f1f1;\n",
       "        }    #T_b5271efa_eb4c_11e9_b0b1_309c23131503row1_col2 {\n",
       "            background-color:  #fff7fb;\n",
       "            color:  #000000;\n",
       "        }    #T_b5271efa_eb4c_11e9_b0b1_309c23131503row1_col3 {\n",
       "            background-color:  #f1ebf4;\n",
       "            color:  #000000;\n",
       "        }    #T_b5271efa_eb4c_11e9_b0b1_309c23131503row1_col4 {\n",
       "            background-color:  #eae6f1;\n",
       "            color:  #000000;\n",
       "        }    #T_b5271efa_eb4c_11e9_b0b1_309c23131503row1_col5 {\n",
       "            background-color:  #358fc0;\n",
       "            color:  #000000;\n",
       "        }    #T_b5271efa_eb4c_11e9_b0b1_309c23131503row1_col6 {\n",
       "            background-color:  #056fae;\n",
       "            color:  #f1f1f1;\n",
       "        }    #T_b5271efa_eb4c_11e9_b0b1_309c23131503row1_col7 {\n",
       "            background-color:  #3f93c2;\n",
       "            color:  #000000;\n",
       "        }    #T_b5271efa_eb4c_11e9_b0b1_309c23131503row1_col8 {\n",
       "            background-color:  #2a88bc;\n",
       "            color:  #000000;\n",
       "        }    #T_b5271efa_eb4c_11e9_b0b1_309c23131503row1_col9 {\n",
       "            background-color:  #94b6d7;\n",
       "            color:  #000000;\n",
       "        }    #T_b5271efa_eb4c_11e9_b0b1_309c23131503row2_col0 {\n",
       "            background-color:  #d2d3e7;\n",
       "            color:  #000000;\n",
       "        }    #T_b5271efa_eb4c_11e9_b0b1_309c23131503row2_col1 {\n",
       "            background-color:  #fff7fb;\n",
       "            color:  #000000;\n",
       "        }    #T_b5271efa_eb4c_11e9_b0b1_309c23131503row2_col2 {\n",
       "            background-color:  #023858;\n",
       "            color:  #f1f1f1;\n",
       "        }    #T_b5271efa_eb4c_11e9_b0b1_309c23131503row2_col3 {\n",
       "            background-color:  #dedcec;\n",
       "            color:  #000000;\n",
       "        }    #T_b5271efa_eb4c_11e9_b0b1_309c23131503row2_col4 {\n",
       "            background-color:  #f1ebf5;\n",
       "            color:  #000000;\n",
       "        }    #T_b5271efa_eb4c_11e9_b0b1_309c23131503row2_col5 {\n",
       "            background-color:  #fff7fb;\n",
       "            color:  #000000;\n",
       "        }    #T_b5271efa_eb4c_11e9_b0b1_309c23131503row2_col6 {\n",
       "            background-color:  #fef6fb;\n",
       "            color:  #000000;\n",
       "        }    #T_b5271efa_eb4c_11e9_b0b1_309c23131503row2_col7 {\n",
       "            background-color:  #fbf3f9;\n",
       "            color:  #000000;\n",
       "        }    #T_b5271efa_eb4c_11e9_b0b1_309c23131503row2_col8 {\n",
       "            background-color:  #c2cbe2;\n",
       "            color:  #000000;\n",
       "        }    #T_b5271efa_eb4c_11e9_b0b1_309c23131503row2_col9 {\n",
       "            background-color:  #d9d8ea;\n",
       "            color:  #000000;\n",
       "        }    #T_b5271efa_eb4c_11e9_b0b1_309c23131503row3_col0 {\n",
       "            background-color:  #f1ebf5;\n",
       "            color:  #000000;\n",
       "        }    #T_b5271efa_eb4c_11e9_b0b1_309c23131503row3_col1 {\n",
       "            background-color:  #f6eff7;\n",
       "            color:  #000000;\n",
       "        }    #T_b5271efa_eb4c_11e9_b0b1_309c23131503row3_col2 {\n",
       "            background-color:  #e5e1ef;\n",
       "            color:  #000000;\n",
       "        }    #T_b5271efa_eb4c_11e9_b0b1_309c23131503row3_col3 {\n",
       "            background-color:  #023858;\n",
       "            color:  #f1f1f1;\n",
       "        }    #T_b5271efa_eb4c_11e9_b0b1_309c23131503row3_col4 {\n",
       "            background-color:  #faf3f9;\n",
       "            color:  #000000;\n",
       "        }    #T_b5271efa_eb4c_11e9_b0b1_309c23131503row3_col5 {\n",
       "            background-color:  #e7e3f0;\n",
       "            color:  #000000;\n",
       "        }    #T_b5271efa_eb4c_11e9_b0b1_309c23131503row3_col6 {\n",
       "            background-color:  #fff7fb;\n",
       "            color:  #000000;\n",
       "        }    #T_b5271efa_eb4c_11e9_b0b1_309c23131503row3_col7 {\n",
       "            background-color:  #fff7fb;\n",
       "            color:  #000000;\n",
       "        }    #T_b5271efa_eb4c_11e9_b0b1_309c23131503row3_col8 {\n",
       "            background-color:  #fff7fb;\n",
       "            color:  #000000;\n",
       "        }    #T_b5271efa_eb4c_11e9_b0b1_309c23131503row3_col9 {\n",
       "            background-color:  #fff7fb;\n",
       "            color:  #000000;\n",
       "        }    #T_b5271efa_eb4c_11e9_b0b1_309c23131503row4_col0 {\n",
       "            background-color:  #f0eaf4;\n",
       "            color:  #000000;\n",
       "        }    #T_b5271efa_eb4c_11e9_b0b1_309c23131503row4_col1 {\n",
       "            background-color:  #c5cce3;\n",
       "            color:  #000000;\n",
       "        }    #T_b5271efa_eb4c_11e9_b0b1_309c23131503row4_col2 {\n",
       "            background-color:  #d0d1e6;\n",
       "            color:  #000000;\n",
       "        }    #T_b5271efa_eb4c_11e9_b0b1_309c23131503row4_col3 {\n",
       "            background-color:  #d4d4e8;\n",
       "            color:  #000000;\n",
       "        }    #T_b5271efa_eb4c_11e9_b0b1_309c23131503row4_col4 {\n",
       "            background-color:  #023858;\n",
       "            color:  #f1f1f1;\n",
       "        }    #T_b5271efa_eb4c_11e9_b0b1_309c23131503row4_col5 {\n",
       "            background-color:  #b9c6e0;\n",
       "            color:  #000000;\n",
       "        }    #T_b5271efa_eb4c_11e9_b0b1_309c23131503row4_col6 {\n",
       "            background-color:  #c0c9e2;\n",
       "            color:  #000000;\n",
       "        }    #T_b5271efa_eb4c_11e9_b0b1_309c23131503row4_col7 {\n",
       "            background-color:  #e7e3f0;\n",
       "            color:  #000000;\n",
       "        }    #T_b5271efa_eb4c_11e9_b0b1_309c23131503row4_col8 {\n",
       "            background-color:  #8fb4d6;\n",
       "            color:  #000000;\n",
       "        }    #T_b5271efa_eb4c_11e9_b0b1_309c23131503row4_col9 {\n",
       "            background-color:  #eee8f3;\n",
       "            color:  #000000;\n",
       "        }    #T_b5271efa_eb4c_11e9_b0b1_309c23131503row5_col0 {\n",
       "            background-color:  #fff7fb;\n",
       "            color:  #000000;\n",
       "        }    #T_b5271efa_eb4c_11e9_b0b1_309c23131503row5_col1 {\n",
       "            background-color:  #2c89bd;\n",
       "            color:  #000000;\n",
       "        }    #T_b5271efa_eb4c_11e9_b0b1_309c23131503row5_col2 {\n",
       "            background-color:  #f6eff7;\n",
       "            color:  #000000;\n",
       "        }    #T_b5271efa_eb4c_11e9_b0b1_309c23131503row5_col3 {\n",
       "            background-color:  #d4d4e8;\n",
       "            color:  #000000;\n",
       "        }    #T_b5271efa_eb4c_11e9_b0b1_309c23131503row5_col4 {\n",
       "            background-color:  #d6d6e9;\n",
       "            color:  #000000;\n",
       "        }    #T_b5271efa_eb4c_11e9_b0b1_309c23131503row5_col5 {\n",
       "            background-color:  #023858;\n",
       "            color:  #f1f1f1;\n",
       "        }    #T_b5271efa_eb4c_11e9_b0b1_309c23131503row5_col6 {\n",
       "            background-color:  #5c9fc9;\n",
       "            color:  #000000;\n",
       "        }    #T_b5271efa_eb4c_11e9_b0b1_309c23131503row5_col7 {\n",
       "            background-color:  #b0c2de;\n",
       "            color:  #000000;\n",
       "        }    #T_b5271efa_eb4c_11e9_b0b1_309c23131503row5_col8 {\n",
       "            background-color:  #60a1ca;\n",
       "            color:  #000000;\n",
       "        }    #T_b5271efa_eb4c_11e9_b0b1_309c23131503row5_col9 {\n",
       "            background-color:  #d3d4e7;\n",
       "            color:  #000000;\n",
       "        }    #T_b5271efa_eb4c_11e9_b0b1_309c23131503row6_col0 {\n",
       "            background-color:  #f8f1f8;\n",
       "            color:  #000000;\n",
       "        }    #T_b5271efa_eb4c_11e9_b0b1_309c23131503row6_col1 {\n",
       "            background-color:  #056caa;\n",
       "            color:  #f1f1f1;\n",
       "        }    #T_b5271efa_eb4c_11e9_b0b1_309c23131503row6_col2 {\n",
       "            background-color:  #f6eff7;\n",
       "            color:  #000000;\n",
       "        }    #T_b5271efa_eb4c_11e9_b0b1_309c23131503row6_col3 {\n",
       "            background-color:  #f1ebf5;\n",
       "            color:  #000000;\n",
       "        }    #T_b5271efa_eb4c_11e9_b0b1_309c23131503row6_col4 {\n",
       "            background-color:  #dbdaeb;\n",
       "            color:  #000000;\n",
       "        }    #T_b5271efa_eb4c_11e9_b0b1_309c23131503row6_col5 {\n",
       "            background-color:  #5ea0ca;\n",
       "            color:  #000000;\n",
       "        }    #T_b5271efa_eb4c_11e9_b0b1_309c23131503row6_col6 {\n",
       "            background-color:  #023858;\n",
       "            color:  #f1f1f1;\n",
       "        }    #T_b5271efa_eb4c_11e9_b0b1_309c23131503row6_col7 {\n",
       "            background-color:  #5c9fc9;\n",
       "            color:  #000000;\n",
       "        }    #T_b5271efa_eb4c_11e9_b0b1_309c23131503row6_col8 {\n",
       "            background-color:  #3f93c2;\n",
       "            color:  #000000;\n",
       "        }    #T_b5271efa_eb4c_11e9_b0b1_309c23131503row6_col9 {\n",
       "            background-color:  #a2bcda;\n",
       "            color:  #000000;\n",
       "        }    #T_b5271efa_eb4c_11e9_b0b1_309c23131503row7_col0 {\n",
       "            background-color:  #faf3f9;\n",
       "            color:  #000000;\n",
       "        }    #T_b5271efa_eb4c_11e9_b0b1_309c23131503row7_col1 {\n",
       "            background-color:  #2c89bd;\n",
       "            color:  #000000;\n",
       "        }    #T_b5271efa_eb4c_11e9_b0b1_309c23131503row7_col2 {\n",
       "            background-color:  #ebe6f2;\n",
       "            color:  #000000;\n",
       "        }    #T_b5271efa_eb4c_11e9_b0b1_309c23131503row7_col3 {\n",
       "            background-color:  #e9e5f1;\n",
       "            color:  #000000;\n",
       "        }    #T_b5271efa_eb4c_11e9_b0b1_309c23131503row7_col4 {\n",
       "            background-color:  #f3edf5;\n",
       "            color:  #000000;\n",
       "        }    #T_b5271efa_eb4c_11e9_b0b1_309c23131503row7_col5 {\n",
       "            background-color:  #a5bddb;\n",
       "            color:  #000000;\n",
       "        }    #T_b5271efa_eb4c_11e9_b0b1_309c23131503row7_col6 {\n",
       "            background-color:  #509ac6;\n",
       "            color:  #000000;\n",
       "        }    #T_b5271efa_eb4c_11e9_b0b1_309c23131503row7_col7 {\n",
       "            background-color:  #023858;\n",
       "            color:  #f1f1f1;\n",
       "        }    #T_b5271efa_eb4c_11e9_b0b1_309c23131503row7_col8 {\n",
       "            background-color:  #7bacd1;\n",
       "            color:  #000000;\n",
       "        }    #T_b5271efa_eb4c_11e9_b0b1_309c23131503row7_col9 {\n",
       "            background-color:  #b4c4df;\n",
       "            color:  #000000;\n",
       "        }    #T_b5271efa_eb4c_11e9_b0b1_309c23131503row8_col0 {\n",
       "            background-color:  #e2dfee;\n",
       "            color:  #000000;\n",
       "        }    #T_b5271efa_eb4c_11e9_b0b1_309c23131503row8_col1 {\n",
       "            background-color:  #308cbe;\n",
       "            color:  #000000;\n",
       "        }    #T_b5271efa_eb4c_11e9_b0b1_309c23131503row8_col2 {\n",
       "            background-color:  #cccfe5;\n",
       "            color:  #000000;\n",
       "        }    #T_b5271efa_eb4c_11e9_b0b1_309c23131503row8_col3 {\n",
       "            background-color:  #fff7fb;\n",
       "            color:  #000000;\n",
       "        }    #T_b5271efa_eb4c_11e9_b0b1_309c23131503row8_col4 {\n",
       "            background-color:  #c4cbe3;\n",
       "            color:  #000000;\n",
       "        }    #T_b5271efa_eb4c_11e9_b0b1_309c23131503row8_col5 {\n",
       "            background-color:  #76aad0;\n",
       "            color:  #000000;\n",
       "        }    #T_b5271efa_eb4c_11e9_b0b1_309c23131503row8_col6 {\n",
       "            background-color:  #529bc7;\n",
       "            color:  #000000;\n",
       "        }    #T_b5271efa_eb4c_11e9_b0b1_309c23131503row8_col7 {\n",
       "            background-color:  #9cb9d9;\n",
       "            color:  #000000;\n",
       "        }    #T_b5271efa_eb4c_11e9_b0b1_309c23131503row8_col8 {\n",
       "            background-color:  #023858;\n",
       "            color:  #f1f1f1;\n",
       "        }    #T_b5271efa_eb4c_11e9_b0b1_309c23131503row8_col9 {\n",
       "            background-color:  #a5bddb;\n",
       "            color:  #000000;\n",
       "        }    #T_b5271efa_eb4c_11e9_b0b1_309c23131503row9_col0 {\n",
       "            background-color:  #f0eaf4;\n",
       "            color:  #000000;\n",
       "        }    #T_b5271efa_eb4c_11e9_b0b1_309c23131503row9_col1 {\n",
       "            background-color:  #84b0d3;\n",
       "            color:  #000000;\n",
       "        }    #T_b5271efa_eb4c_11e9_b0b1_309c23131503row9_col2 {\n",
       "            background-color:  #cacee5;\n",
       "            color:  #000000;\n",
       "        }    #T_b5271efa_eb4c_11e9_b0b1_309c23131503row9_col3 {\n",
       "            background-color:  #f0eaf4;\n",
       "            color:  #000000;\n",
       "        }    #T_b5271efa_eb4c_11e9_b0b1_309c23131503row9_col4 {\n",
       "            background-color:  #fff7fb;\n",
       "            color:  #000000;\n",
       "        }    #T_b5271efa_eb4c_11e9_b0b1_309c23131503row9_col5 {\n",
       "            background-color:  #d2d3e7;\n",
       "            color:  #000000;\n",
       "        }    #T_b5271efa_eb4c_11e9_b0b1_309c23131503row9_col6 {\n",
       "            background-color:  #a1bbda;\n",
       "            color:  #000000;\n",
       "        }    #T_b5271efa_eb4c_11e9_b0b1_309c23131503row9_col7 {\n",
       "            background-color:  #bdc8e1;\n",
       "            color:  #000000;\n",
       "        }    #T_b5271efa_eb4c_11e9_b0b1_309c23131503row9_col8 {\n",
       "            background-color:  #8cb3d5;\n",
       "            color:  #000000;\n",
       "        }    #T_b5271efa_eb4c_11e9_b0b1_309c23131503row9_col9 {\n",
       "            background-color:  #023858;\n",
       "            color:  #f1f1f1;\n",
       "        }</style><table id=\"T_b5271efa_eb4c_11e9_b0b1_309c23131503\" ><thead>    <tr>        <th class=\"blank level0\" ></th>        <th class=\"col_heading level0 col0\" >row.labels</th>        <th class=\"col_heading level0 col1\" >totalprice</th>        <th class=\"col_heading level0 col2\" >area</th>        <th class=\"col_heading level0 col3\" >age</th>        <th class=\"col_heading level0 col4\" >floor</th>        <th class=\"col_heading level0 col5\" >rooms</th>        <th class=\"col_heading level0 col6\" >toilets</th>        <th class=\"col_heading level0 col7\" >garage</th>        <th class=\"col_heading level0 col8\" >elevator</th>        <th class=\"col_heading level0 col9\" >tras</th>    </tr></thead><tbody>\n",
       "                <tr>\n",
       "                        <th id=\"T_b5271efa_eb4c_11e9_b0b1_309c23131503level0_row0\" class=\"row_heading level0 row0\" >row.labels</th>\n",
       "                        <td id=\"T_b5271efa_eb4c_11e9_b0b1_309c23131503row0_col0\" class=\"data row0 col0\" >1</td>\n",
       "                        <td id=\"T_b5271efa_eb4c_11e9_b0b1_309c23131503row0_col1\" class=\"data row0 col1\" >-0.1</td>\n",
       "                        <td id=\"T_b5271efa_eb4c_11e9_b0b1_309c23131503row0_col2\" class=\"data row0 col2\" >0.15</td>\n",
       "                        <td id=\"T_b5271efa_eb4c_11e9_b0b1_309c23131503row0_col3\" class=\"data row0 col3\" >-0.018</td>\n",
       "                        <td id=\"T_b5271efa_eb4c_11e9_b0b1_309c23131503row0_col4\" class=\"data row0 col4\" >-0.0067</td>\n",
       "                        <td id=\"T_b5271efa_eb4c_11e9_b0b1_309c23131503row0_col5\" class=\"data row0 col5\" >-0.12</td>\n",
       "                        <td id=\"T_b5271efa_eb4c_11e9_b0b1_309c23131503row0_col6\" class=\"data row0 col6\" >-0.066</td>\n",
       "                        <td id=\"T_b5271efa_eb4c_11e9_b0b1_309c23131503row0_col7\" class=\"data row0 col7\" >-0.085</td>\n",
       "                        <td id=\"T_b5271efa_eb4c_11e9_b0b1_309c23131503row0_col8\" class=\"data row0 col8\" >0.068</td>\n",
       "                        <td id=\"T_b5271efa_eb4c_11e9_b0b1_309c23131503row0_col9\" class=\"data row0 col9\" >-0.0066</td>\n",
       "            </tr>\n",
       "            <tr>\n",
       "                        <th id=\"T_b5271efa_eb4c_11e9_b0b1_309c23131503level0_row1\" class=\"row_heading level0 row1\" >totalprice</th>\n",
       "                        <td id=\"T_b5271efa_eb4c_11e9_b0b1_309c23131503row1_col0\" class=\"data row1 col0\" >-0.1</td>\n",
       "                        <td id=\"T_b5271efa_eb4c_11e9_b0b1_309c23131503row1_col1\" class=\"data row1 col1\" >1</td>\n",
       "                        <td id=\"T_b5271efa_eb4c_11e9_b0b1_309c23131503row1_col2\" class=\"data row1 col2\" >-0.36</td>\n",
       "                        <td id=\"T_b5271efa_eb4c_11e9_b0b1_309c23131503row1_col3\" class=\"data row1 col3\" >-0.27</td>\n",
       "                        <td id=\"T_b5271efa_eb4c_11e9_b0b1_309c23131503row1_col4\" class=\"data row1 col4\" >0.029</td>\n",
       "                        <td id=\"T_b5271efa_eb4c_11e9_b0b1_309c23131503row1_col5\" class=\"data row1 col5\" >0.53</td>\n",
       "                        <td id=\"T_b5271efa_eb4c_11e9_b0b1_309c23131503row1_col6\" class=\"data row1 col6\" >0.69</td>\n",
       "                        <td id=\"T_b5271efa_eb4c_11e9_b0b1_309c23131503row1_col7\" class=\"data row1 col7\" >0.52</td>\n",
       "                        <td id=\"T_b5271efa_eb4c_11e9_b0b1_309c23131503row1_col8\" class=\"data row1 col8\" >0.51</td>\n",
       "                        <td id=\"T_b5271efa_eb4c_11e9_b0b1_309c23131503row1_col9\" class=\"data row1 col9\" >0.27</td>\n",
       "            </tr>\n",
       "            <tr>\n",
       "                        <th id=\"T_b5271efa_eb4c_11e9_b0b1_309c23131503level0_row2\" class=\"row_heading level0 row2\" >area</th>\n",
       "                        <td id=\"T_b5271efa_eb4c_11e9_b0b1_309c23131503row2_col0\" class=\"data row2 col0\" >0.15</td>\n",
       "                        <td id=\"T_b5271efa_eb4c_11e9_b0b1_309c23131503row2_col1\" class=\"data row2 col1\" >-0.36</td>\n",
       "                        <td id=\"T_b5271efa_eb4c_11e9_b0b1_309c23131503row2_col2\" class=\"data row2 col2\" >1</td>\n",
       "                        <td id=\"T_b5271efa_eb4c_11e9_b0b1_309c23131503row2_col3\" class=\"data row2 col3\" >-0.14</td>\n",
       "                        <td id=\"T_b5271efa_eb4c_11e9_b0b1_309c23131503row2_col4\" class=\"data row2 col4\" >-0.018</td>\n",
       "                        <td id=\"T_b5271efa_eb4c_11e9_b0b1_309c23131503row2_col5\" class=\"data row2 col5\" >-0.28</td>\n",
       "                        <td id=\"T_b5271efa_eb4c_11e9_b0b1_309c23131503row2_col6\" class=\"data row2 col6\" >-0.28</td>\n",
       "                        <td id=\"T_b5271efa_eb4c_11e9_b0b1_309c23131503row2_col7\" class=\"data row2 col7\" >-0.18</td>\n",
       "                        <td id=\"T_b5271efa_eb4c_11e9_b0b1_309c23131503row2_col8\" class=\"data row2 col8\" >-3.2e-05</td>\n",
       "                        <td id=\"T_b5271efa_eb4c_11e9_b0b1_309c23131503row2_col9\" class=\"data row2 col9\" >0.0038</td>\n",
       "            </tr>\n",
       "            <tr>\n",
       "                        <th id=\"T_b5271efa_eb4c_11e9_b0b1_309c23131503level0_row3\" class=\"row_heading level0 row3\" >age</th>\n",
       "                        <td id=\"T_b5271efa_eb4c_11e9_b0b1_309c23131503row3_col0\" class=\"data row3 col0\" >-0.018</td>\n",
       "                        <td id=\"T_b5271efa_eb4c_11e9_b0b1_309c23131503row3_col1\" class=\"data row3 col1\" >-0.27</td>\n",
       "                        <td id=\"T_b5271efa_eb4c_11e9_b0b1_309c23131503row3_col2\" class=\"data row3 col2\" >-0.14</td>\n",
       "                        <td id=\"T_b5271efa_eb4c_11e9_b0b1_309c23131503row3_col3\" class=\"data row3 col3\" >1</td>\n",
       "                        <td id=\"T_b5271efa_eb4c_11e9_b0b1_309c23131503row3_col4\" class=\"data row3 col4\" >-0.081</td>\n",
       "                        <td id=\"T_b5271efa_eb4c_11e9_b0b1_309c23131503row3_col5\" class=\"data row3 col5\" >-0.083</td>\n",
       "                        <td id=\"T_b5271efa_eb4c_11e9_b0b1_309c23131503row3_col6\" class=\"data row3 col6\" >-0.28</td>\n",
       "                        <td id=\"T_b5271efa_eb4c_11e9_b0b1_309c23131503row3_col7\" class=\"data row3 col7\" >-0.21</td>\n",
       "                        <td id=\"T_b5271efa_eb4c_11e9_b0b1_309c23131503row3_col8\" class=\"data row3 col8\" >-0.41</td>\n",
       "                        <td id=\"T_b5271efa_eb4c_11e9_b0b1_309c23131503row3_col9\" class=\"data row3 col9\" >-0.27</td>\n",
       "            </tr>\n",
       "            <tr>\n",
       "                        <th id=\"T_b5271efa_eb4c_11e9_b0b1_309c23131503level0_row4\" class=\"row_heading level0 row4\" >floor</th>\n",
       "                        <td id=\"T_b5271efa_eb4c_11e9_b0b1_309c23131503row4_col0\" class=\"data row4 col0\" >-0.0067</td>\n",
       "                        <td id=\"T_b5271efa_eb4c_11e9_b0b1_309c23131503row4_col1\" class=\"data row4 col1\" >0.029</td>\n",
       "                        <td id=\"T_b5271efa_eb4c_11e9_b0b1_309c23131503row4_col2\" class=\"data row4 col2\" >-0.018</td>\n",
       "                        <td id=\"T_b5271efa_eb4c_11e9_b0b1_309c23131503row4_col3\" class=\"data row4 col3\" >-0.081</td>\n",
       "                        <td id=\"T_b5271efa_eb4c_11e9_b0b1_309c23131503row4_col4\" class=\"data row4 col4\" >1</td>\n",
       "                        <td id=\"T_b5271efa_eb4c_11e9_b0b1_309c23131503row4_col5\" class=\"data row4 col5\" >0.13</td>\n",
       "                        <td id=\"T_b5271efa_eb4c_11e9_b0b1_309c23131503row4_col6\" class=\"data row4 col6\" >0.1</td>\n",
       "                        <td id=\"T_b5271efa_eb4c_11e9_b0b1_309c23131503row4_col7\" class=\"data row4 col7\" >-0.03</td>\n",
       "                        <td id=\"T_b5271efa_eb4c_11e9_b0b1_309c23131503row4_col8\" class=\"data row4 col8\" >0.2</td>\n",
       "                        <td id=\"T_b5271efa_eb4c_11e9_b0b1_309c23131503row4_col9\" class=\"data row4 col9\" >-0.12</td>\n",
       "            </tr>\n",
       "            <tr>\n",
       "                        <th id=\"T_b5271efa_eb4c_11e9_b0b1_309c23131503level0_row5\" class=\"row_heading level0 row5\" >rooms</th>\n",
       "                        <td id=\"T_b5271efa_eb4c_11e9_b0b1_309c23131503row5_col0\" class=\"data row5 col0\" >-0.12</td>\n",
       "                        <td id=\"T_b5271efa_eb4c_11e9_b0b1_309c23131503row5_col1\" class=\"data row5 col1\" >0.53</td>\n",
       "                        <td id=\"T_b5271efa_eb4c_11e9_b0b1_309c23131503row5_col2\" class=\"data row5 col2\" >-0.28</td>\n",
       "                        <td id=\"T_b5271efa_eb4c_11e9_b0b1_309c23131503row5_col3\" class=\"data row5 col3\" >-0.083</td>\n",
       "                        <td id=\"T_b5271efa_eb4c_11e9_b0b1_309c23131503row5_col4\" class=\"data row5 col4\" >0.13</td>\n",
       "                        <td id=\"T_b5271efa_eb4c_11e9_b0b1_309c23131503row5_col5\" class=\"data row5 col5\" >1</td>\n",
       "                        <td id=\"T_b5271efa_eb4c_11e9_b0b1_309c23131503row5_col6\" class=\"data row5 col6\" >0.42</td>\n",
       "                        <td id=\"T_b5271efa_eb4c_11e9_b0b1_309c23131503row5_col7\" class=\"data row5 col7\" >0.21</td>\n",
       "                        <td id=\"T_b5271efa_eb4c_11e9_b0b1_309c23131503row5_col8\" class=\"data row5 col8\" >0.35</td>\n",
       "                        <td id=\"T_b5271efa_eb4c_11e9_b0b1_309c23131503row5_col9\" class=\"data row5 col9\" >0.033</td>\n",
       "            </tr>\n",
       "            <tr>\n",
       "                        <th id=\"T_b5271efa_eb4c_11e9_b0b1_309c23131503level0_row6\" class=\"row_heading level0 row6\" >toilets</th>\n",
       "                        <td id=\"T_b5271efa_eb4c_11e9_b0b1_309c23131503row6_col0\" class=\"data row6 col0\" >-0.066</td>\n",
       "                        <td id=\"T_b5271efa_eb4c_11e9_b0b1_309c23131503row6_col1\" class=\"data row6 col1\" >0.69</td>\n",
       "                        <td id=\"T_b5271efa_eb4c_11e9_b0b1_309c23131503row6_col2\" class=\"data row6 col2\" >-0.28</td>\n",
       "                        <td id=\"T_b5271efa_eb4c_11e9_b0b1_309c23131503row6_col3\" class=\"data row6 col3\" >-0.28</td>\n",
       "                        <td id=\"T_b5271efa_eb4c_11e9_b0b1_309c23131503row6_col4\" class=\"data row6 col4\" >0.1</td>\n",
       "                        <td id=\"T_b5271efa_eb4c_11e9_b0b1_309c23131503row6_col5\" class=\"data row6 col5\" >0.42</td>\n",
       "                        <td id=\"T_b5271efa_eb4c_11e9_b0b1_309c23131503row6_col6\" class=\"data row6 col6\" >1</td>\n",
       "                        <td id=\"T_b5271efa_eb4c_11e9_b0b1_309c23131503row6_col7\" class=\"data row6 col7\" >0.45</td>\n",
       "                        <td id=\"T_b5271efa_eb4c_11e9_b0b1_309c23131503row6_col8\" class=\"data row6 col8\" >0.45</td>\n",
       "                        <td id=\"T_b5271efa_eb4c_11e9_b0b1_309c23131503row6_col9\" class=\"data row6 col9\" >0.22</td>\n",
       "            </tr>\n",
       "            <tr>\n",
       "                        <th id=\"T_b5271efa_eb4c_11e9_b0b1_309c23131503level0_row7\" class=\"row_heading level0 row7\" >garage</th>\n",
       "                        <td id=\"T_b5271efa_eb4c_11e9_b0b1_309c23131503row7_col0\" class=\"data row7 col0\" >-0.085</td>\n",
       "                        <td id=\"T_b5271efa_eb4c_11e9_b0b1_309c23131503row7_col1\" class=\"data row7 col1\" >0.52</td>\n",
       "                        <td id=\"T_b5271efa_eb4c_11e9_b0b1_309c23131503row7_col2\" class=\"data row7 col2\" >-0.18</td>\n",
       "                        <td id=\"T_b5271efa_eb4c_11e9_b0b1_309c23131503row7_col3\" class=\"data row7 col3\" >-0.21</td>\n",
       "                        <td id=\"T_b5271efa_eb4c_11e9_b0b1_309c23131503row7_col4\" class=\"data row7 col4\" >-0.03</td>\n",
       "                        <td id=\"T_b5271efa_eb4c_11e9_b0b1_309c23131503row7_col5\" class=\"data row7 col5\" >0.21</td>\n",
       "                        <td id=\"T_b5271efa_eb4c_11e9_b0b1_309c23131503row7_col6\" class=\"data row7 col6\" >0.45</td>\n",
       "                        <td id=\"T_b5271efa_eb4c_11e9_b0b1_309c23131503row7_col7\" class=\"data row7 col7\" >1</td>\n",
       "                        <td id=\"T_b5271efa_eb4c_11e9_b0b1_309c23131503row7_col8\" class=\"data row7 col8\" >0.27</td>\n",
       "                        <td id=\"T_b5271efa_eb4c_11e9_b0b1_309c23131503row7_col9\" class=\"data row7 col9\" >0.16</td>\n",
       "            </tr>\n",
       "            <tr>\n",
       "                        <th id=\"T_b5271efa_eb4c_11e9_b0b1_309c23131503level0_row8\" class=\"row_heading level0 row8\" >elevator</th>\n",
       "                        <td id=\"T_b5271efa_eb4c_11e9_b0b1_309c23131503row8_col0\" class=\"data row8 col0\" >0.068</td>\n",
       "                        <td id=\"T_b5271efa_eb4c_11e9_b0b1_309c23131503row8_col1\" class=\"data row8 col1\" >0.51</td>\n",
       "                        <td id=\"T_b5271efa_eb4c_11e9_b0b1_309c23131503row8_col2\" class=\"data row8 col2\" >-3.2e-05</td>\n",
       "                        <td id=\"T_b5271efa_eb4c_11e9_b0b1_309c23131503row8_col3\" class=\"data row8 col3\" >-0.41</td>\n",
       "                        <td id=\"T_b5271efa_eb4c_11e9_b0b1_309c23131503row8_col4\" class=\"data row8 col4\" >0.2</td>\n",
       "                        <td id=\"T_b5271efa_eb4c_11e9_b0b1_309c23131503row8_col5\" class=\"data row8 col5\" >0.35</td>\n",
       "                        <td id=\"T_b5271efa_eb4c_11e9_b0b1_309c23131503row8_col6\" class=\"data row8 col6\" >0.45</td>\n",
       "                        <td id=\"T_b5271efa_eb4c_11e9_b0b1_309c23131503row8_col7\" class=\"data row8 col7\" >0.27</td>\n",
       "                        <td id=\"T_b5271efa_eb4c_11e9_b0b1_309c23131503row8_col8\" class=\"data row8 col8\" >1</td>\n",
       "                        <td id=\"T_b5271efa_eb4c_11e9_b0b1_309c23131503row8_col9\" class=\"data row8 col9\" >0.21</td>\n",
       "            </tr>\n",
       "            <tr>\n",
       "                        <th id=\"T_b5271efa_eb4c_11e9_b0b1_309c23131503level0_row9\" class=\"row_heading level0 row9\" >tras</th>\n",
       "                        <td id=\"T_b5271efa_eb4c_11e9_b0b1_309c23131503row9_col0\" class=\"data row9 col0\" >-0.0066</td>\n",
       "                        <td id=\"T_b5271efa_eb4c_11e9_b0b1_309c23131503row9_col1\" class=\"data row9 col1\" >0.27</td>\n",
       "                        <td id=\"T_b5271efa_eb4c_11e9_b0b1_309c23131503row9_col2\" class=\"data row9 col2\" >0.0038</td>\n",
       "                        <td id=\"T_b5271efa_eb4c_11e9_b0b1_309c23131503row9_col3\" class=\"data row9 col3\" >-0.27</td>\n",
       "                        <td id=\"T_b5271efa_eb4c_11e9_b0b1_309c23131503row9_col4\" class=\"data row9 col4\" >-0.12</td>\n",
       "                        <td id=\"T_b5271efa_eb4c_11e9_b0b1_309c23131503row9_col5\" class=\"data row9 col5\" >0.033</td>\n",
       "                        <td id=\"T_b5271efa_eb4c_11e9_b0b1_309c23131503row9_col6\" class=\"data row9 col6\" >0.22</td>\n",
       "                        <td id=\"T_b5271efa_eb4c_11e9_b0b1_309c23131503row9_col7\" class=\"data row9 col7\" >0.16</td>\n",
       "                        <td id=\"T_b5271efa_eb4c_11e9_b0b1_309c23131503row9_col8\" class=\"data row9 col8\" >0.21</td>\n",
       "                        <td id=\"T_b5271efa_eb4c_11e9_b0b1_309c23131503row9_col9\" class=\"data row9 col9\" >1</td>\n",
       "            </tr>\n",
       "    </tbody></table>"
      ],
      "text/plain": [
       "<pandas.io.formats.style.Styler at 0x270f8c12390>"
      ]
     },
     "execution_count": 66,
     "metadata": {},
     "output_type": "execute_result"
    }
   ],
   "source": [
    "#Mencari korelasi antar features\n",
    "#Saya akan fokus mencari korelasi features dengan target yaitu totalprice\n",
    "df.corr().style.background_gradient().set_precision(2)"
   ]
  },
  {
   "cell_type": "markdown",
   "metadata": {},
   "source": [
    "- Korelasi totalprice dan toilets, rooms, garage, dan elevator kuat positif.\n",
    "- Korelasi tras dan totalprice cukup kuat positif.\n",
    "- Korelasi floor dan totalprice sangat lemah karena mendekati 0.\n",
    "- Yaitu ketika jumlah toilets bertambah maka harga apartmen juga ikut bertambah.\n",
    "***\n",
    "- Korelasi antara totalprice area, age memiliki korelasi cukup kuat namun negatif.\n",
    "- Yaitu dengan bertambahnya age dari apartmen maka harga apartemen akan turun."
   ]
  },
  {
   "cell_type": "code",
   "execution_count": 67,
   "metadata": {},
   "outputs": [
    {
     "data": {
      "text/plain": [
       "<matplotlib.axes._subplots.AxesSubplot at 0x270f8cc7a90>"
      ]
     },
     "execution_count": 67,
     "metadata": {},
     "output_type": "execute_result"
    },
    {
     "data": {
      "image/png": "[encoded data removed]",
      "text/plain": [
       "<Figure size 432x288 with 1 Axes>"
      ]
     },
     "metadata": {
      "needs_background": "light"
     },
     "output_type": "display_data"
    }
   ],
   "source": [
    "#Bivariate Analysis antara totalprice dan toilets\n",
    "sns.barplot(data=df, x=df['toilets'], y=df['totalprice'], color='blue')"
   ]
  },
  {
   "cell_type": "markdown",
   "metadata": {},
   "source": [
    "- Dapat dilihat bahwa semakin banyak toilets maka akan memberi dampak semakin mahal sebuah apartment."
   ]
  },
  {
   "cell_type": "code",
   "execution_count": 68,
   "metadata": {},
   "outputs": [
    {
     "data": {
      "text/plain": [
       "<matplotlib.axes._subplots.AxesSubplot at 0x270f9feb748>"
      ]
     },
     "execution_count": 68,
     "metadata": {},
     "output_type": "execute_result"
    },
    {
     "data": {
      "image/png": "[encoded data removed]",
      "text/plain": [
       "<Figure size 432x288 with 1 Axes>"
      ]
     },
     "metadata": {
      "needs_background": "light"
     },
     "output_type": "display_data"
    }
   ],
   "source": [
    "#Bivariate Analysis antara totalprice dan rooms\n",
    "sns.barplot(data=df, x=df['rooms'], y=df['totalprice'], color='green')"
   ]
  },
  {
   "cell_type": "markdown",
   "metadata": {},
   "source": [
    "- Semakin banyak rooms maka semakin mahal sebuah apartment"
   ]
  },
  {
   "cell_type": "code",
   "execution_count": 69,
   "metadata": {},
   "outputs": [
    {
     "data": {
      "text/plain": [
       "<matplotlib.axes._subplots.AxesSubplot at 0x270fa056908>"
      ]
     },
     "execution_count": 69,
     "metadata": {},
     "output_type": "execute_result"
    },
    {
     "data": {
      "image/png": "[encoded data removed]",
      "text/plain": [
       "<Figure size 432x288 with 1 Axes>"
      ]
     },
     "metadata": {
      "needs_background": "light"
     },
     "output_type": "display_data"
    }
   ],
   "source": [
    "#Bivariate Analysis antara totalprice dan rooms\n",
    "sns.regplot(data=df, x=df['age'], y=df['totalprice'], color='black')"
   ]
  },
  {
   "cell_type": "markdown",
   "metadata": {},
   "source": [
    "- Hubungan antara umur dan totalprice terindikasi kuat negatif dimana setiap pertambahan umur akan mengakibatkan penurunan harga dari apartment"
   ]
  },
  {
   "cell_type": "code",
   "execution_count": 70,
   "metadata": {},
   "outputs": [
    {
     "data": {
      "text/plain": [
       "<matplotlib.axes._subplots.AxesSubplot at 0x270fa0af4e0>"
      ]
     },
     "execution_count": 70,
     "metadata": {},
     "output_type": "execute_result"
    },
    {
     "data": {
      "image/png": "[encoded data removed]",
      "text/plain": [
       "<Figure size 432x288 with 1 Axes>"
      ]
     },
     "metadata": {
      "needs_background": "light"
     },
     "output_type": "display_data"
    }
   ],
   "source": [
    "#Bivariate Analysis antara totalprice dan toilets\n",
    "sns.barplot(data=df, x=df['elevator'], y=df['totalprice'], color='blue')"
   ]
  },
  {
   "cell_type": "markdown",
   "metadata": {},
   "source": [
    "- Bisa dilihat bahwa ketika jumlah elevator naik, maka harga dari apartemen juga ikutan naik."
   ]
  },
  {
   "cell_type": "markdown",
   "metadata": {},
   "source": [
    "## 4. Feature Selection"
   ]
  },
  {
   "cell_type": "code",
   "execution_count": 71,
   "metadata": {},
   "outputs": [
    {
     "data": {
      "text/html": [
       "<div>\n",
       "<style scoped>\n",
       "    .dataframe tbody tr th:only-of-type {\n",
       "        vertical-align: middle;\n",
       "    }\n",
       "\n",
       "    .dataframe tbody tr th {\n",
       "        vertical-align: top;\n",
       "    }\n",
       "\n",
       "    .dataframe thead th {\n",
       "        text-align: right;\n",
       "    }\n",
       "</style>\n",
       "<table border=\"1\" class=\"dataframe\">\n",
       "  <thead>\n",
       "    <tr style=\"text-align: right;\">\n",
       "      <th></th>\n",
       "      <th>area</th>\n",
       "      <th>age</th>\n",
       "      <th>floor</th>\n",
       "      <th>rooms</th>\n",
       "      <th>toilets</th>\n",
       "      <th>garage</th>\n",
       "      <th>elevator</th>\n",
       "      <th>tras</th>\n",
       "      <th>conservation_1</th>\n",
       "      <th>conservation_2</th>\n",
       "      <th>conservation_3</th>\n",
       "    </tr>\n",
       "  </thead>\n",
       "  <tbody>\n",
       "    <tr>\n",
       "      <th>0</th>\n",
       "      <td>7.531000e+09</td>\n",
       "      <td>33</td>\n",
       "      <td>3</td>\n",
       "      <td>5</td>\n",
       "      <td>1</td>\n",
       "      <td>0</td>\n",
       "      <td>1</td>\n",
       "      <td>0</td>\n",
       "      <td>0</td>\n",
       "      <td>0</td>\n",
       "      <td>1</td>\n",
       "    </tr>\n",
       "    <tr>\n",
       "      <th>1</th>\n",
       "      <td>1.006500e+09</td>\n",
       "      <td>5</td>\n",
       "      <td>7</td>\n",
       "      <td>5</td>\n",
       "      <td>2</td>\n",
       "      <td>1</td>\n",
       "      <td>1</td>\n",
       "      <td>1</td>\n",
       "      <td>1</td>\n",
       "      <td>0</td>\n",
       "      <td>0</td>\n",
       "    </tr>\n",
       "    <tr>\n",
       "      <th>2</th>\n",
       "      <td>8.887000e+09</td>\n",
       "      <td>14</td>\n",
       "      <td>8</td>\n",
       "      <td>5</td>\n",
       "      <td>2</td>\n",
       "      <td>0</td>\n",
       "      <td>1</td>\n",
       "      <td>0</td>\n",
       "      <td>1</td>\n",
       "      <td>0</td>\n",
       "      <td>0</td>\n",
       "    </tr>\n",
       "    <tr>\n",
       "      <th>3</th>\n",
       "      <td>6.261000e+09</td>\n",
       "      <td>41</td>\n",
       "      <td>3</td>\n",
       "      <td>4</td>\n",
       "      <td>1</td>\n",
       "      <td>0</td>\n",
       "      <td>0</td>\n",
       "      <td>0</td>\n",
       "      <td>0</td>\n",
       "      <td>1</td>\n",
       "      <td>0</td>\n",
       "    </tr>\n",
       "    <tr>\n",
       "      <th>4</th>\n",
       "      <td>1.461500e+09</td>\n",
       "      <td>22</td>\n",
       "      <td>6</td>\n",
       "      <td>7</td>\n",
       "      <td>2</td>\n",
       "      <td>0</td>\n",
       "      <td>1</td>\n",
       "      <td>1</td>\n",
       "      <td>1</td>\n",
       "      <td>0</td>\n",
       "      <td>0</td>\n",
       "    </tr>\n",
       "  </tbody>\n",
       "</table>\n",
       "</div>"
      ],
      "text/plain": [
       "           area  age  floor  rooms  toilets  garage  elevator  tras  \\\n",
       "0  7.531000e+09   33      3      5        1       0         1     0   \n",
       "1  1.006500e+09    5      7      5        2       1         1     1   \n",
       "2  8.887000e+09   14      8      5        2       0         1     0   \n",
       "3  6.261000e+09   41      3      4        1       0         0     0   \n",
       "4  1.461500e+09   22      6      7        2       0         1     1   \n",
       "\n",
       "   conservation_1  conservation_2  conservation_3  \n",
       "0               0               0               1  \n",
       "1               1               0               0  \n",
       "2               1               0               0  \n",
       "3               0               1               0  \n",
       "4               1               0               0  "
      ]
     },
     "execution_count": 71,
     "metadata": {},
     "output_type": "execute_result"
    }
   ],
   "source": [
    "x.head()"
   ]
  },
  {
   "cell_type": "markdown",
   "metadata": {},
   "source": [
    "- Saya akan semua memilih variabel dengan type data numerik karena model machine learning hanya menerima type data yang berbentuk numerik.\n",
    "- Feature yang saya sertakan dalam perhitungan ini adalah:\n",
    "    - area\n",
    "    - age\n",
    "    - floor\n",
    "    - rooms\n",
    "    - toilets\n",
    "    - garage\n",
    "    - elevator\n",
    "    - tras\n",
    "    - conservation\n",
    "- Terkecuali conservation yang akan saya rubah ke dalam bentuk numerikal.\n",
    "- Saya akan mengubah conservation menggunakan one hot encoding."
   ]
  },
  {
   "cell_type": "code",
   "execution_count": 72,
   "metadata": {},
   "outputs": [],
   "source": [
    "#membuat dictionary dari conservation untuk merubah nilainya.\n",
    "dicti = {\n",
    "    '2B':3,\n",
    "    '3A':3,\n",
    "    '2A':2,\n",
    "    '1A':1\n",
    "}\n",
    "df['conservation'] = df['conservation'].replace(dicti)"
   ]
  },
  {
   "cell_type": "code",
   "execution_count": 73,
   "metadata": {},
   "outputs": [],
   "source": [
    "#membuat dataframe baru agar dataframe yang induk tidak berubah\n",
    "new_df = df.copy()"
   ]
  },
  {
   "cell_type": "code",
   "execution_count": 74,
   "metadata": {},
   "outputs": [],
   "source": [
    "#Menghapus kolom yang tidak perlu\n",
    "drop = ['row.labels','zone', 'category', 'out', 'streetcategory', 'heating']\n",
    "new_df.drop(columns=drop, inplace=True)"
   ]
  },
  {
   "cell_type": "code",
   "execution_count": 75,
   "metadata": {},
   "outputs": [],
   "source": [
    "#Membuat one hot encoding\n",
    "new_df['conservation'] = pd.Categorical(new_df['conservation'])\n",
    "new_df = pd.get_dummies(new_df)"
   ]
  },
  {
   "cell_type": "markdown",
   "metadata": {},
   "source": [
    "## 5. Modelling"
   ]
  },
  {
   "cell_type": "code",
   "execution_count": 76,
   "metadata": {},
   "outputs": [],
   "source": [
    "#Memakai Linear regression\n",
    "#Membuat onject Linear Regression\n",
    "lin_reg = LinearRegression()"
   ]
  },
  {
   "cell_type": "code",
   "execution_count": 77,
   "metadata": {},
   "outputs": [],
   "source": [
    "#membuat variabel x dan y\n",
    "x = new_df.drop(columns = ['totalprice'])\n",
    "y = new_df['totalprice']"
   ]
  },
  {
   "cell_type": "code",
   "execution_count": 78,
   "metadata": {},
   "outputs": [],
   "source": [
    "#split data dengan proporsi 80% untuk training dan 20% untuk testing.\n",
    "x_train, x_test, y_train, y_test = train_test_split(x, y, test_size=0.2, random_state=4)"
   ]
  },
  {
   "cell_type": "code",
   "execution_count": 79,
   "metadata": {},
   "outputs": [
    {
     "data": {
      "text/plain": [
       "LinearRegression(copy_X=True, fit_intercept=True, n_jobs=None, normalize=False)"
      ]
     },
     "execution_count": 79,
     "metadata": {},
     "output_type": "execute_result"
    }
   ],
   "source": [
    "#training model linear regression\n",
    "lin_reg.fit(x_train, y_train)"
   ]
  },
  {
   "cell_type": "code",
   "execution_count": 80,
   "metadata": {},
   "outputs": [],
   "source": [
    "#melakukan prediksi x_test\n",
    "y_pred = lin_reg.predict(x_test)"
   ]
  },
  {
   "cell_type": "code",
   "execution_count": 85,
   "metadata": {},
   "outputs": [
    {
     "data": {
      "text/html": [
       "<div>\n",
       "<style scoped>\n",
       "    .dataframe tbody tr th:only-of-type {\n",
       "        vertical-align: middle;\n",
       "    }\n",
       "\n",
       "    .dataframe tbody tr th {\n",
       "        vertical-align: top;\n",
       "    }\n",
       "\n",
       "    .dataframe thead th {\n",
       "        text-align: right;\n",
       "    }\n",
       "</style>\n",
       "<table border=\"1\" class=\"dataframe\">\n",
       "  <thead>\n",
       "    <tr style=\"text-align: right;\">\n",
       "      <th></th>\n",
       "      <th>Koefisien</th>\n",
       "      <th>features</th>\n",
       "    </tr>\n",
       "  </thead>\n",
       "  <tbody>\n",
       "    <tr>\n",
       "      <th>0</th>\n",
       "      <td>-0.000003</td>\n",
       "      <td>area</td>\n",
       "    </tr>\n",
       "    <tr>\n",
       "      <th>1</th>\n",
       "      <td>-155.062993</td>\n",
       "      <td>age</td>\n",
       "    </tr>\n",
       "    <tr>\n",
       "      <th>2</th>\n",
       "      <td>-2813.985267</td>\n",
       "      <td>floor</td>\n",
       "    </tr>\n",
       "    <tr>\n",
       "      <th>3</th>\n",
       "      <td>28839.335081</td>\n",
       "      <td>rooms</td>\n",
       "    </tr>\n",
       "    <tr>\n",
       "      <th>4</th>\n",
       "      <td>45820.164083</td>\n",
       "      <td>toilets</td>\n",
       "    </tr>\n",
       "    <tr>\n",
       "      <th>5</th>\n",
       "      <td>29995.114488</td>\n",
       "      <td>garage</td>\n",
       "    </tr>\n",
       "    <tr>\n",
       "      <th>6</th>\n",
       "      <td>36170.732809</td>\n",
       "      <td>elevator</td>\n",
       "    </tr>\n",
       "    <tr>\n",
       "      <th>7</th>\n",
       "      <td>18983.127088</td>\n",
       "      <td>tras</td>\n",
       "    </tr>\n",
       "    <tr>\n",
       "      <th>8</th>\n",
       "      <td>6746.941954</td>\n",
       "      <td>conservation_1</td>\n",
       "    </tr>\n",
       "    <tr>\n",
       "      <th>9</th>\n",
       "      <td>-3232.575659</td>\n",
       "      <td>conservation_2</td>\n",
       "    </tr>\n",
       "    <tr>\n",
       "      <th>10</th>\n",
       "      <td>-3514.366295</td>\n",
       "      <td>conservation_3</td>\n",
       "    </tr>\n",
       "  </tbody>\n",
       "</table>\n",
       "</div>"
      ],
      "text/plain": [
       "       Koefisien        features\n",
       "0      -0.000003            area\n",
       "1    -155.062993             age\n",
       "2   -2813.985267           floor\n",
       "3   28839.335081           rooms\n",
       "4   45820.164083         toilets\n",
       "5   29995.114488          garage\n",
       "6   36170.732809        elevator\n",
       "7   18983.127088            tras\n",
       "8    6746.941954  conservation_1\n",
       "9   -3232.575659  conservation_2\n",
       "10  -3514.366295  conservation_3"
      ]
     },
     "execution_count": 85,
     "metadata": {},
     "output_type": "execute_result"
    }
   ],
   "source": [
    "#Melihat Koefisien dari Linear Regression model\n",
    "koef = pd.DataFrame(lin_reg.coef_, columns=['Koefisien'])\n",
    "koef['features'] = x.columns\n",
    "koef"
   ]
  },
  {
   "cell_type": "markdown",
   "metadata": {},
   "source": [
    "- Dari dataframe diatas dapat dilihat bahwa dengan pertambahan 1 nilai saja, features toilets memberikan pertambahan positif terbesar yaitu 45820.\n",
    "- Sedangkan nilai conservation_3 memberikan pertambahan negatif terbesar yaitu sebesar -3514.36"
   ]
  },
  {
   "cell_type": "code",
   "execution_count": 29,
   "metadata": {},
   "outputs": [],
   "source": [
    "#Membuat fungsi untuk menghitung MAPE\n",
    "def mean_absolute_percentage_error(y_true, y_pred): \n",
    "    y_true, y_pred = np.array(y_true), np.array(y_pred)\n",
    "    return np.mean(np.abs((y_true - y_pred) / y_true)) * 100"
   ]
  },
  {
   "cell_type": "code",
   "execution_count": 30,
   "metadata": {},
   "outputs": [
    {
     "name": "stdout",
     "output_type": "stream",
     "text": [
      "Nilai MAE 26665.984496903933\n",
      "Nilai MAPE 9.338433427252056)\n"
     ]
    }
   ],
   "source": [
    "#check error dengan menggunakan MAE dan MAPE\n",
    "print(f'Nilai MAE {mean_absolute_error(y_pred, y_test)}')\n",
    "print(f'Nilai MAPE {mean_absolute_percentage_error(y_test, y_pred)})')"
   ]
  },
  {
   "cell_type": "markdown",
   "metadata": {},
   "source": [
    "- Model awal memiliki error sebesar 26665 dengan nilai MAPE sebesar sekitar 9%"
   ]
  },
  {
   "cell_type": "markdown",
   "metadata": {},
   "source": [
    "# Cara Kedua Menggunakan Sedikit Modifikasi\n",
    "- Selain menggunakan Linear Regression, saya juga akan menggunakan algoritma lain yaitu DecisionTreeRegressor, RandomForestRegressor.\n",
    "- Maksud saya disini adalah untuk membandingkan performa dari ketiga model."
   ]
  },
  {
   "cell_type": "markdown",
   "metadata": {},
   "source": [
    "### Menggunakan Decision Tree Regressor"
   ]
  },
  {
   "cell_type": "code",
   "execution_count": 31,
   "metadata": {},
   "outputs": [],
   "source": [
    "#membuat object Decision Tree Regressor\n",
    "tree = DecisionTreeRegressor()"
   ]
  },
  {
   "cell_type": "code",
   "execution_count": 32,
   "metadata": {},
   "outputs": [],
   "source": [
    "#split data dengan proporsi 80% untuk training dan 20% untuk testing\n",
    "x_train, x_test, y_train, y_test = train_test_split(x, y, test_size=0.2, random_state=4)\n",
    "\n",
    "#training model\n",
    "tree.fit(x_train, y_train)\n",
    "\n",
    "#melakukan prediksi dengan x_test\n",
    "y_pred = tree.predict(x_test)"
   ]
  },
  {
   "cell_type": "code",
   "execution_count": 33,
   "metadata": {},
   "outputs": [
    {
     "name": "stdout",
     "output_type": "stream",
     "text": [
      "Nilai MAE 39136.36363636364\n",
      "Nilai MAPE 13.458807682617982)\n"
     ]
    }
   ],
   "source": [
    "#check error menggunakan parameter MAE dan MAPE\n",
    "print(f'Nilai MAE {mean_absolute_error(y_pred, y_test)}')\n",
    "print(f'Nilai MAPE {mean_absolute_percentage_error(y_test, y_pred)})')"
   ]
  },
  {
   "cell_type": "markdown",
   "metadata": {},
   "source": [
    "### Menggunakan Random Forest Regressor"
   ]
  },
  {
   "cell_type": "code",
   "execution_count": 34,
   "metadata": {},
   "outputs": [],
   "source": [
    "#membuat object RF\n",
    "forest = RandomForestRegressor()"
   ]
  },
  {
   "cell_type": "code",
   "execution_count": 35,
   "metadata": {},
   "outputs": [],
   "source": [
    "#training model\n",
    "forest.fit(x_train, y_train)\n",
    "\n",
    "#melakukan prediksi\n",
    "y_pred = forest.predict(x_test)"
   ]
  },
  {
   "cell_type": "code",
   "execution_count": 36,
   "metadata": {},
   "outputs": [
    {
     "name": "stdout",
     "output_type": "stream",
     "text": [
      "Nilai MAE 28742.045454545456\n",
      "Nilai MAPE 10.205981370497684)\n"
     ]
    }
   ],
   "source": [
    "#check error menggunakan parameter MAE dan MAPE\n",
    "print(f'Nilai MAE {mean_absolute_error(y_pred, y_test)}')\n",
    "print(f'Nilai MAPE {mean_absolute_percentage_error(y_test, y_pred)})')"
   ]
  },
  {
   "cell_type": "markdown",
   "metadata": {},
   "source": [
    "# Kesimpulan\n",
    "- Dari 3 model yang digunakan yaitu Linear regression, Decision Tree, dan Random Forest didapatkan metode Linear Regression memberikan nilai MAE dan MAPE yang terkecil.\n",
    "- Model Linear regression yang dipilih dengan MAE sekitar 26 ribu dan MAPE 9%.\n",
    "- Berdasarkan correlation score, didapatkan bahwa:\n",
    "    - Korelasi totalprice dan toilets, rooms, garage, dan elevator kuat positif.\n",
    "    - Korelasi tras dan totalprice cukup kuat positif.\n",
    "    - Korelasi floor dan totalprice sangat lemah karena mendekati 0.\n",
    "    - Yaitu ketika jumlah toilets bertambah maka harga apartmen juga ikut bertambah.\n",
    "    - Korelasi antara totalprice area, age memiliki korelasi cukup kuat namun negatif.\n",
    "    - Yaitu dengan bertambahnya age dari apartmen maka harga apartemen akan turun.\n",
    "- Dari dataframe koef dapat dilihat bahwa dengan pertambahan 1 nilai saja, features toilets memberikan pertambahan positif terbesar yaitu 45820. Sedangkan nilai conservation_3 memberikan pertambahan negatif terbesar yaitu sebesar -3514.36."
   ]
  },
  {
   "cell_type": "markdown",
   "metadata": {},
   "source": [
    "# Prediction\n",
    "- Melakukan sedikit prediksi menggunakan model Linear Regression karena mendapatkan hasil RMSE yang paling kecil."
   ]
  },
  {
   "cell_type": "code",
   "execution_count": 37,
   "metadata": {},
   "outputs": [
    {
     "name": "stdout",
     "output_type": "stream",
     "text": [
      "Nilai MAE 24144.188870522263\n",
      "Nilai MAPE 8.385044261998502)\n"
     ]
    }
   ],
   "source": [
    "#training model menggunakan semua data x dan y.\n",
    "lin_reg.fit(x, y)\n",
    "\n",
    "#melakukan prediksi\n",
    "y_pred = lin_reg.predict(x_test)\n",
    "\n",
    "#check error\n",
    "print(f'Nilai MAE {mean_absolute_error(y_pred, y_test)}')\n",
    "print(f'Nilai MAPE {mean_absolute_percentage_error(y_test, y_pred)})')"
   ]
  },
  {
   "cell_type": "markdown",
   "metadata": {},
   "source": [
    "- Dengan menggunakan semua data x dan y didapatkan akurasi dari MAE dan MAPE yang lebih kecil dari saat training."
   ]
  },
  {
   "cell_type": "code",
   "execution_count": 38,
   "metadata": {},
   "outputs": [
    {
     "data": {
      "text/plain": [
       "array([439388.66765608])"
      ]
     },
     "execution_count": 38,
     "metadata": {},
     "output_type": "execute_result"
    }
   ],
   "source": [
    "#Melakukan prediksi\n",
    "data = [[6500000000, 5, 4, 6, 4, 1, 1, 0, 1, 0, 0]]\n",
    "lin_reg.predict(data)"
   ]
  },
  {
   "cell_type": "markdown",
   "metadata": {},
   "source": [
    "- Dengan menggunakan awal pertama didapatkan harga dari apartmen dengan spesifikasi diatas adalah 439.388 dollars"
   ]
  }
 ],
 "metadata": {
  "kernelspec": {
   "display_name": "Python 3",
   "language": "python",
   "name": "python3"
  },
  "language_info": {
   "codemirror_mode": {
    "name": "ipython",
    "version": 3
   },
   "file_extension": ".py",
   "mimetype": "text/x-python",
   "name": "python",
   "nbconvert_exporter": "python",
   "pygments_lexer": "ipython3",
   "version": "3.7.3"
  }
 },
 "nbformat": 4,
 "nbformat_minor": 2
}
